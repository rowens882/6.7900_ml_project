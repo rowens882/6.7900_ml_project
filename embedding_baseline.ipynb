{
  "cells": [
    {
      "cell_type": "markdown",
      "metadata": {
        "id": "I6pNxpJP_EGE"
      },
      "source": [
        "# Word Embedding"
      ]
    },
    {
      "cell_type": "markdown",
      "metadata": {
        "id": "skfV4wdtu5cW"
      },
      "source": [
        "## Get data"
      ]
    },
    {
      "cell_type": "code",
      "execution_count": 1,
      "metadata": {
        "colab": {
          "base_uri": "https://localhost:8080/"
        },
        "id": "fy7AUboA_Hht",
        "outputId": "2d6c102c-d3c4-436b-8ad3-68fd2602115f"
      },
      "outputs": [
        {
          "output_type": "stream",
          "name": "stdout",
          "text": [
            "Drive already mounted at /content/drive; to attempt to forcibly remount, call drive.mount(\"/content/drive\", force_remount=True).\n"
          ]
        }
      ],
      "source": [
        "from google.colab import drive\n",
        "drive.mount(\"/content/drive\")"
      ]
    },
    {
      "cell_type": "code",
      "execution_count": 40,
      "metadata": {
        "colab": {
          "base_uri": "https://localhost:8080/",
          "height": 354
        },
        "id": "-fz94Hrn_N_G",
        "outputId": "5e904476-f327-4dc1-c440-44cbfdfb1619"
      },
      "outputs": [
        {
          "output_type": "execute_result",
          "data": {
            "text/plain": [
              "    Case Number  Votes for Labor Union1  Votes Against  \\\n",
              "0  01-RC-090869                    74.0           45.0   \n",
              "1  10-RC-090329                   106.0           83.0   \n",
              "2  18-RC-090794                    36.0           78.0   \n",
              "3  29-RD-091658                   114.0          107.0   \n",
              "4  09-RC-090819                    28.0           62.0   \n",
              "\n",
              "                                      Tweets - Union Tweets - Labor Org  \\\n",
              "0  [' Preprocess all the meshes into a union of c...                  0   \n",
              "1  [\"I'm at eCO Credit Union (Alabaster, AL) 4sq....                  0   \n",
              "2                                                  0                  0   \n",
              "3  [\"I'm at Grand Union Hotel (New York, NY) 4sq....                  0   \n",
              "4  ['   agreed. But the union needs reform too.',...                  0   \n",
              "\n",
              "                                  Tweets - Case Name  Outcome  \n",
              "0  ['Volunteers, food needed for Thanksgiving - b...     True  \n",
              "1                                                  0     True  \n",
              "2                                                  0    False  \n",
              "3                                                  0     True  \n",
              "4                                                  0    False  "
            ],
            "text/html": [
              "\n",
              "  <div id=\"df-0dd2f40d-f008-490e-98f2-1fef10249bb4\">\n",
              "    <div class=\"colab-df-container\">\n",
              "      <div>\n",
              "<style scoped>\n",
              "    .dataframe tbody tr th:only-of-type {\n",
              "        vertical-align: middle;\n",
              "    }\n",
              "\n",
              "    .dataframe tbody tr th {\n",
              "        vertical-align: top;\n",
              "    }\n",
              "\n",
              "    .dataframe thead th {\n",
              "        text-align: right;\n",
              "    }\n",
              "</style>\n",
              "<table border=\"1\" class=\"dataframe\">\n",
              "  <thead>\n",
              "    <tr style=\"text-align: right;\">\n",
              "      <th></th>\n",
              "      <th>Case Number</th>\n",
              "      <th>Votes for Labor Union1</th>\n",
              "      <th>Votes Against</th>\n",
              "      <th>Tweets - Union</th>\n",
              "      <th>Tweets - Labor Org</th>\n",
              "      <th>Tweets - Case Name</th>\n",
              "      <th>Outcome</th>\n",
              "    </tr>\n",
              "  </thead>\n",
              "  <tbody>\n",
              "    <tr>\n",
              "      <th>0</th>\n",
              "      <td>01-RC-090869</td>\n",
              "      <td>74.0</td>\n",
              "      <td>45.0</td>\n",
              "      <td>[' Preprocess all the meshes into a union of c...</td>\n",
              "      <td>0</td>\n",
              "      <td>['Volunteers, food needed for Thanksgiving - b...</td>\n",
              "      <td>True</td>\n",
              "    </tr>\n",
              "    <tr>\n",
              "      <th>1</th>\n",
              "      <td>10-RC-090329</td>\n",
              "      <td>106.0</td>\n",
              "      <td>83.0</td>\n",
              "      <td>[\"I'm at eCO Credit Union (Alabaster, AL) 4sq....</td>\n",
              "      <td>0</td>\n",
              "      <td>0</td>\n",
              "      <td>True</td>\n",
              "    </tr>\n",
              "    <tr>\n",
              "      <th>2</th>\n",
              "      <td>18-RC-090794</td>\n",
              "      <td>36.0</td>\n",
              "      <td>78.0</td>\n",
              "      <td>0</td>\n",
              "      <td>0</td>\n",
              "      <td>0</td>\n",
              "      <td>False</td>\n",
              "    </tr>\n",
              "    <tr>\n",
              "      <th>3</th>\n",
              "      <td>29-RD-091658</td>\n",
              "      <td>114.0</td>\n",
              "      <td>107.0</td>\n",
              "      <td>[\"I'm at Grand Union Hotel (New York, NY) 4sq....</td>\n",
              "      <td>0</td>\n",
              "      <td>0</td>\n",
              "      <td>True</td>\n",
              "    </tr>\n",
              "    <tr>\n",
              "      <th>4</th>\n",
              "      <td>09-RC-090819</td>\n",
              "      <td>28.0</td>\n",
              "      <td>62.0</td>\n",
              "      <td>['   agreed. But the union needs reform too.',...</td>\n",
              "      <td>0</td>\n",
              "      <td>0</td>\n",
              "      <td>False</td>\n",
              "    </tr>\n",
              "  </tbody>\n",
              "</table>\n",
              "</div>\n",
              "      <button class=\"colab-df-convert\" onclick=\"convertToInteractive('df-0dd2f40d-f008-490e-98f2-1fef10249bb4')\"\n",
              "              title=\"Convert this dataframe to an interactive table.\"\n",
              "              style=\"display:none;\">\n",
              "        \n",
              "  <svg xmlns=\"http://www.w3.org/2000/svg\" height=\"24px\"viewBox=\"0 0 24 24\"\n",
              "       width=\"24px\">\n",
              "    <path d=\"M0 0h24v24H0V0z\" fill=\"none\"/>\n",
              "    <path d=\"M18.56 5.44l.94 2.06.94-2.06 2.06-.94-2.06-.94-.94-2.06-.94 2.06-2.06.94zm-11 1L8.5 8.5l.94-2.06 2.06-.94-2.06-.94L8.5 2.5l-.94 2.06-2.06.94zm10 10l.94 2.06.94-2.06 2.06-.94-2.06-.94-.94-2.06-.94 2.06-2.06.94z\"/><path d=\"M17.41 7.96l-1.37-1.37c-.4-.4-.92-.59-1.43-.59-.52 0-1.04.2-1.43.59L10.3 9.45l-7.72 7.72c-.78.78-.78 2.05 0 2.83L4 21.41c.39.39.9.59 1.41.59.51 0 1.02-.2 1.41-.59l7.78-7.78 2.81-2.81c.8-.78.8-2.07 0-2.86zM5.41 20L4 18.59l7.72-7.72 1.47 1.35L5.41 20z\"/>\n",
              "  </svg>\n",
              "      </button>\n",
              "      \n",
              "  <style>\n",
              "    .colab-df-container {\n",
              "      display:flex;\n",
              "      flex-wrap:wrap;\n",
              "      gap: 12px;\n",
              "    }\n",
              "\n",
              "    .colab-df-convert {\n",
              "      background-color: #E8F0FE;\n",
              "      border: none;\n",
              "      border-radius: 50%;\n",
              "      cursor: pointer;\n",
              "      display: none;\n",
              "      fill: #1967D2;\n",
              "      height: 32px;\n",
              "      padding: 0 0 0 0;\n",
              "      width: 32px;\n",
              "    }\n",
              "\n",
              "    .colab-df-convert:hover {\n",
              "      background-color: #E2EBFA;\n",
              "      box-shadow: 0px 1px 2px rgba(60, 64, 67, 0.3), 0px 1px 3px 1px rgba(60, 64, 67, 0.15);\n",
              "      fill: #174EA6;\n",
              "    }\n",
              "\n",
              "    [theme=dark] .colab-df-convert {\n",
              "      background-color: #3B4455;\n",
              "      fill: #D2E3FC;\n",
              "    }\n",
              "\n",
              "    [theme=dark] .colab-df-convert:hover {\n",
              "      background-color: #434B5C;\n",
              "      box-shadow: 0px 1px 3px 1px rgba(0, 0, 0, 0.15);\n",
              "      filter: drop-shadow(0px 1px 2px rgba(0, 0, 0, 0.3));\n",
              "      fill: #FFFFFF;\n",
              "    }\n",
              "  </style>\n",
              "\n",
              "      <script>\n",
              "        const buttonEl =\n",
              "          document.querySelector('#df-0dd2f40d-f008-490e-98f2-1fef10249bb4 button.colab-df-convert');\n",
              "        buttonEl.style.display =\n",
              "          google.colab.kernel.accessAllowed ? 'block' : 'none';\n",
              "\n",
              "        async function convertToInteractive(key) {\n",
              "          const element = document.querySelector('#df-0dd2f40d-f008-490e-98f2-1fef10249bb4');\n",
              "          const dataTable =\n",
              "            await google.colab.kernel.invokeFunction('convertToInteractive',\n",
              "                                                     [key], {});\n",
              "          if (!dataTable) return;\n",
              "\n",
              "          const docLinkHtml = 'Like what you see? Visit the ' +\n",
              "            '<a target=\"_blank\" href=https://colab.research.google.com/notebooks/data_table.ipynb>data table notebook</a>'\n",
              "            + ' to learn more about interactive tables.';\n",
              "          element.innerHTML = '';\n",
              "          dataTable['output_type'] = 'display_data';\n",
              "          await google.colab.output.renderOutput(dataTable, element);\n",
              "          const docLink = document.createElement('div');\n",
              "          docLink.innerHTML = docLinkHtml;\n",
              "          element.appendChild(docLink);\n",
              "        }\n",
              "      </script>\n",
              "    </div>\n",
              "  </div>\n",
              "  "
            ]
          },
          "metadata": {},
          "execution_count": 40
        }
      ],
      "source": [
        "import pandas as pd\n",
        "import numpy as np\n",
        "import csv\n",
        "import warnings; warnings.filterwarnings(\"ignore\")\n",
        "\n",
        "np.random.seed(618)\n",
        "\n",
        "file_path = \"drive/MyDrive/Academics/MIT 6.7900/\"\n",
        "\n",
        "df = pd.read_excel(file_path + \"elections_with_cleaned_tweets.xlsx\")\n",
        "df = df[[\"Case Number\", \"Votes for Labor Union1\", \"Votes Against\", \n",
        "         \"Tweets - Union\", \"Tweets - Labor Org\", \"Tweets - Case Name\"]]\n",
        "df.fillna(0, inplace = True)\n",
        "\n",
        "df[\"Outcome\"] = df[\"Votes for Labor Union1\"] > df[\"Votes Against\"]\n",
        "\n",
        "df.head()"
      ]
    },
    {
      "cell_type": "code",
      "source": [
        "# train val test split\n",
        "from sklearn.utils import shuffle\n",
        "\n",
        "def trainValTestSplit(df, train_size = 0.8, val_size = 0.9):\n",
        "    assert(val_size > train_size)\n",
        "    l = len(df)\n",
        "    df = shuffle(df)\n",
        "    df_train, df_val, df_test = df.iloc[:int(l * train_size),:], \\\n",
        "                                df.iloc[int(l * train_size):int(l * val_size), :], \\\n",
        "                                df.iloc[int(l * val_size):, :]\n",
        "    return df_train, df_val, df_test\n",
        "\n",
        "df_train, df_val, df_test = trainValTestSplit(df)"
      ],
      "metadata": {
        "id": "kgtcMo0yKt9D"
      },
      "execution_count": 41,
      "outputs": []
    },
    {
      "cell_type": "markdown",
      "metadata": {
        "id": "YyrKZjtkuyGy"
      },
      "source": [
        "## Embedding with BERT"
      ]
    },
    {
      "cell_type": "code",
      "execution_count": 4,
      "metadata": {
        "colab": {
          "base_uri": "https://localhost:8080/"
        },
        "id": "dWndeJTWu2it",
        "outputId": "075912e8-06fa-47bb-e597-641e16887f29"
      },
      "outputs": [
        {
          "output_type": "stream",
          "name": "stdout",
          "text": [
            "Looking in indexes: https://pypi.org/simple, https://us-python.pkg.dev/colab-wheels/public/simple/\n",
            "Requirement already satisfied: transformers in /usr/local/lib/python3.8/dist-packages (4.25.1)\n",
            "Requirement already satisfied: tqdm>=4.27 in /usr/local/lib/python3.8/dist-packages (from transformers) (4.64.1)\n",
            "Requirement already satisfied: filelock in /usr/local/lib/python3.8/dist-packages (from transformers) (3.8.0)\n",
            "Requirement already satisfied: regex!=2019.12.17 in /usr/local/lib/python3.8/dist-packages (from transformers) (2022.6.2)\n",
            "Requirement already satisfied: numpy>=1.17 in /usr/local/lib/python3.8/dist-packages (from transformers) (1.21.6)\n",
            "Requirement already satisfied: requests in /usr/local/lib/python3.8/dist-packages (from transformers) (2.23.0)\n",
            "Requirement already satisfied: huggingface-hub<1.0,>=0.10.0 in /usr/local/lib/python3.8/dist-packages (from transformers) (0.11.1)\n",
            "Requirement already satisfied: packaging>=20.0 in /usr/local/lib/python3.8/dist-packages (from transformers) (21.3)\n",
            "Requirement already satisfied: tokenizers!=0.11.3,<0.14,>=0.11.1 in /usr/local/lib/python3.8/dist-packages (from transformers) (0.13.2)\n",
            "Requirement already satisfied: pyyaml>=5.1 in /usr/local/lib/python3.8/dist-packages (from transformers) (6.0)\n",
            "Requirement already satisfied: typing-extensions>=3.7.4.3 in /usr/local/lib/python3.8/dist-packages (from huggingface-hub<1.0,>=0.10.0->transformers) (4.4.0)\n",
            "Requirement already satisfied: pyparsing!=3.0.5,>=2.0.2 in /usr/local/lib/python3.8/dist-packages (from packaging>=20.0->transformers) (3.0.9)\n",
            "Requirement already satisfied: urllib3!=1.25.0,!=1.25.1,<1.26,>=1.21.1 in /usr/local/lib/python3.8/dist-packages (from requests->transformers) (1.24.3)\n",
            "Requirement already satisfied: idna<3,>=2.5 in /usr/local/lib/python3.8/dist-packages (from requests->transformers) (2.10)\n",
            "Requirement already satisfied: certifi>=2017.4.17 in /usr/local/lib/python3.8/dist-packages (from requests->transformers) (2022.9.24)\n",
            "Requirement already satisfied: chardet<4,>=3.0.2 in /usr/local/lib/python3.8/dist-packages (from requests->transformers) (3.0.4)\n"
          ]
        }
      ],
      "source": [
        "!pip install transformers"
      ]
    },
    {
      "cell_type": "code",
      "execution_count": 42,
      "metadata": {
        "id": "lXxTw0CnvBLl"
      },
      "outputs": [],
      "source": [
        "from transformers import DistilBertTokenizer\n",
        "tokenizer = DistilBertTokenizer.from_pretrained(\"distilbert-base-cased\")"
      ]
    },
    {
      "cell_type": "code",
      "execution_count": 43,
      "metadata": {
        "id": "Hqh-L99eqQTl"
      },
      "outputs": [],
      "source": [
        "import torch\n",
        "\n",
        "def tokenizerFunction(data):\n",
        "    '''\n",
        "    data: list of str\n",
        "    return: list of list of int\n",
        "    '''\n",
        "\n",
        "    tokenized_data = []\n",
        "\n",
        "    for i, sent in enumerate(data):\n",
        "        this_encoding = tokenizer.encode_plus(sent, truncation = True, pad_to_max_length = True,\n",
        "                                              max_length = 64, return_attention_mask = True,\n",
        "                                              return_tensors = 'pt')\n",
        "        tokenized_data.append(this_encoding[\"input_ids\"])\n",
        "    \n",
        "    tokenized_data = torch.cat(tokenized_data, dim = 0)\n",
        "\n",
        "    return tokenized_data.numpy()"
      ]
    },
    {
      "cell_type": "code",
      "source": [
        "def whiteSpaceFix(sent: str) -> str:\n",
        "    return \" \".join(sent.split())\n",
        "\n",
        "def parseString(tweets):\n",
        "    '''\n",
        "    return: list of lists (tweets)\n",
        "    '''\n",
        "    tweets = tweets.replace(\"\\\",\", \"\\',\")\n",
        "    tweets_split = tweets.split(\"\\',\")\n",
        "    tweets_parsed = [tweet[2:] for tweet in tweets_split]\n",
        "    tweets_parsed[-1] = tweets_parsed[-1][:-2]\n",
        "    tweets_parsed = [whiteSpaceFix(tweet) for tweet in tweets_parsed]\n",
        "    return tweets_parsed\n",
        "\n",
        "def tokenizeDataset(df):\n",
        "    '''\n",
        "    df: pandas DataFrame\n",
        "    return: numpy array of all tokenized tweets, \n",
        "            numpy array of labels (P/F),\n",
        "            numpy array of length\n",
        "    '''\n",
        "    df_tk = tokenizerFunction(parseString(df.iloc[0,3]))\n",
        "    label = np.array([df.iloc[0,6]] * df_tk.shape[0])\n",
        "    election = np.zeros(len(df))\n",
        "    election[0] = len(label)\n",
        "    \n",
        "    for i in range(1, len(df)):\n",
        "        if df.iloc[i,3] == 0:\n",
        "            continue\n",
        "        \n",
        "        df_tk_local = tokenizerFunction(parseString(df.iloc[i,3]))\n",
        "        df_tk = np.vstack((df_tk, df_tk_local))\n",
        "        \n",
        "        label_local = np.array([df.iloc[i,6]] * df_tk_local.shape[0])\n",
        "        label = np.hstack((label, label_local))\n",
        "        \n",
        "        election[i] = len(label_local)\n",
        "\n",
        "    return df_tk, label, election\n",
        "\n",
        "df_train_tk, train_label, train_election = tokenizeDataset(df_train)\n",
        "df_val_tk, val_label, val_election = tokenizeDataset(df_val)\n",
        "df_test_tk, test_label, test_election = tokenizeDataset(df_test)"
      ],
      "metadata": {
        "id": "JbzUN8C1I-Wi"
      },
      "execution_count": 44,
      "outputs": []
    },
    {
      "cell_type": "markdown",
      "source": [
        "# Baseline: Gaussian Naive Bayes"
      ],
      "metadata": {
        "id": "FUtKkgofNxTN"
      }
    },
    {
      "cell_type": "code",
      "source": [
        "from sklearn.naive_bayes import GaussianNB\n",
        "from sklearn.metrics import f1_score\n",
        "\n",
        "model_NB = GaussianNB()\n",
        "model_NB.fit(df_train_tk, train_label)"
      ],
      "metadata": {
        "colab": {
          "base_uri": "https://localhost:8080/"
        },
        "id": "YAhwYAjnOSE_",
        "outputId": "f90dbad1-b676-4623-bb60-ae04470c8a13"
      },
      "execution_count": 45,
      "outputs": [
        {
          "output_type": "execute_result",
          "data": {
            "text/plain": [
              "GaussianNB()"
            ]
          },
          "metadata": {},
          "execution_count": 45
        }
      ]
    },
    {
      "cell_type": "code",
      "source": [
        "def calcMetrics(y_pred, y_true):\n",
        "    '''\n",
        "    return: accuracy, f1 score\n",
        "    '''\n",
        "    acc = len(y_pred[y_pred == y_true]) / len(y_pred)\n",
        "    f1 = f1_score(y_true, y_pred)\n",
        "\n",
        "    return acc, f1"
      ],
      "metadata": {
        "id": "TfD_G2mlorSz"
      },
      "execution_count": 46,
      "outputs": []
    },
    {
      "cell_type": "markdown",
      "source": [
        "## Method 1: Evaluate each tweet then vote by simple majority"
      ],
      "metadata": {
        "id": "O7Lkgl9ZnorU"
      }
    },
    {
      "cell_type": "code",
      "source": [
        "def evaluateEach(label_pred, label_true, election):\n",
        "    '''\n",
        "    label_pred: predicted array of labels (P/F)\n",
        "    label_true: true array of labels (P/F)\n",
        "    election: # of tweets per election\n",
        "    return: accuracy in terms of election, f1 score\n",
        "    '''\n",
        "    election = election.astype(int)\n",
        "    election_label_pred, election_label_true = [], []\n",
        "\n",
        "    for i in range(len(election)):\n",
        "        if election[i] == 0:\n",
        "            continue\n",
        "\n",
        "        start, end = 0, election[i]\n",
        "        if i != 0:\n",
        "            start, end = sum(election[:i]), sum(election[:i+1])\n",
        "        \n",
        "        local_label_pred = label_pred[start:end]\n",
        "        local_label_true = label_true[start:end]\n",
        "\n",
        "        election_label_true.append(local_label_true[0])\n",
        "\n",
        "        local_election_label_pred = False\n",
        "        if len(local_label_pred[local_label_pred]) > len(local_label_pred[~local_label_pred]):\n",
        "            local_election_label_pred = True\n",
        "        election_label_pred.append(local_election_label_pred)\n",
        "    \n",
        "    assert len(election_label_pred) == len(election_label_true)\n",
        "\n",
        "    election_label_pred = np.array(election_label_pred)\n",
        "    election_label_true = np.array(election_label_true)\n",
        "\n",
        "    acc, f1 = calcMetrics(election_label_pred, election_label_true)\n",
        "\n",
        "    return acc, f1"
      ],
      "metadata": {
        "id": "a6QBJpG7OQhH"
      },
      "execution_count": 47,
      "outputs": []
    },
    {
      "cell_type": "code",
      "source": [
        "val_label_pred = model_NB.predict(df_val_tk)\n",
        "evaluateEach(val_label_pred, val_label, val_election)"
      ],
      "metadata": {
        "colab": {
          "base_uri": "https://localhost:8080/"
        },
        "id": "xV61kRP1nw1S",
        "outputId": "79905de5-84f7-44d3-bdcc-1adbdfa27626"
      },
      "execution_count": 48,
      "outputs": [
        {
          "output_type": "execute_result",
          "data": {
            "text/plain": [
              "(0.40606060606060607, 0.20967741935483872)"
            ]
          },
          "metadata": {},
          "execution_count": 48
        }
      ]
    },
    {
      "cell_type": "markdown",
      "source": [
        "## Method 2: Evalute by vector mean of each election"
      ],
      "metadata": {
        "id": "4Rco2WuNoOKk"
      }
    },
    {
      "cell_type": "code",
      "source": [
        "def evaluateMean(df_tk, label_true, election, model):\n",
        "    '''\n",
        "    df_tk: tokenized tweets\n",
        "    label_true: true label\n",
        "    election: position\n",
        "    model: fitted model\n",
        "    '''\n",
        "    election = election.astype(int)\n",
        "    election_label_pred, election_label_true = [], []\n",
        "\n",
        "    for i in range(len(election)):\n",
        "        if election[i] == 0:\n",
        "            continue\n",
        "\n",
        "        start, end = 0, election[i]\n",
        "        if i != 0:\n",
        "            start, end = sum(election[:i]), sum(election[:i+1])\n",
        "        \n",
        "        local_df_tk = df_tk[start:end, :]\n",
        "        local_label_true = label_true[start:end]\n",
        "\n",
        "        election_label_true.append(local_label_true[0])\n",
        "\n",
        "        local_df_tk_mean = local_df_tk.mean(axis = 0)\n",
        "        local_label_pred = model.predict(np.array([local_df_tk_mean]))\n",
        "        election_label_pred.extend(local_label_pred)\n",
        "\n",
        "    assert len(election_label_pred) == len(election_label_true)\n",
        "\n",
        "    election_label_pred = np.array(election_label_pred)\n",
        "    election_label_true = np.array(election_label_true)\n",
        "\n",
        "    acc, f1 = calcMetrics(election_label_pred, election_label_true)\n",
        "\n",
        "    return acc, f1"
      ],
      "metadata": {
        "id": "ZSbSaByJoQsi"
      },
      "execution_count": 55,
      "outputs": []
    },
    {
      "cell_type": "code",
      "source": [
        "evaluateMean(df_val_tk, val_label, val_election, model_NB)"
      ],
      "metadata": {
        "colab": {
          "base_uri": "https://localhost:8080/"
        },
        "id": "8LjP9d56sQs4",
        "outputId": "d09eb944-cec8-4ba2-da60-cf24ef976bd5"
      },
      "execution_count": 56,
      "outputs": [
        {
          "output_type": "execute_result",
          "data": {
            "text/plain": [
              "(0.38181818181818183, 0.08928571428571427)"
            ]
          },
          "metadata": {},
          "execution_count": 56
        }
      ]
    },
    {
      "cell_type": "markdown",
      "source": [
        "## Compare: randomly generate outcome predictions"
      ],
      "metadata": {
        "id": "hK0rt-AkPoFg"
      }
    },
    {
      "cell_type": "code",
      "source": [
        "def evaluateRandom(label_true, election):\n",
        "    election = election.astype(int)\n",
        "    election_label_true = []\n",
        "\n",
        "    for i in range(len(election)):\n",
        "        if election[i] == 0:\n",
        "            continue\n",
        "\n",
        "        start, end = 0, election[i]\n",
        "        if i != 0:\n",
        "            start, end = sum(election[:i]), sum(election[:i+1])\n",
        "\n",
        "        local_label_true = label_true[start:end]\n",
        "\n",
        "        election_label_true.append(local_label_true[0])\n",
        "    \n",
        "    election_label_pred = np.random.randint(0, 2, len(election_label_true))\n",
        "\n",
        "    return calcMetrics(election_label_pred, election_label_true)"
      ],
      "metadata": {
        "id": "tsQ_kpKSPtHq"
      },
      "execution_count": 36,
      "outputs": []
    },
    {
      "cell_type": "code",
      "source": [
        "acc, f1 = 0, 0\n",
        "for i in range(200):\n",
        "    local_acc, local_f1 = evaluateRandom(val_label, val_election)\n",
        "    acc += local_acc\n",
        "    f1 += local_f1\n",
        "print(acc / 200)\n",
        "print(f1 / 200)"
      ],
      "metadata": {
        "colab": {
          "base_uri": "https://localhost:8080/"
        },
        "id": "YPytrgP6QvJZ",
        "outputId": "79e8cf8e-3113-491e-b72a-a2e4b90eb072"
      },
      "execution_count": 39,
      "outputs": [
        {
          "output_type": "stream",
          "name": "stdout",
          "text": [
            "0.49696428571428564\n",
            "0.6028565921719459\n"
          ]
        }
      ]
    }
  ],
  "metadata": {
    "accelerator": "GPU",
    "colab": {
      "toc_visible": true,
      "provenance": []
    },
    "gpuClass": "standard",
    "kernelspec": {
      "display_name": "Python 3",
      "name": "python3"
    },
    "language_info": {
      "name": "python"
    }
  },
  "nbformat": 4,
  "nbformat_minor": 0
}