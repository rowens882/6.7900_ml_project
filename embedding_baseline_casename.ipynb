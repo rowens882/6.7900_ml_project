{
  "cells": [
    {
      "cell_type": "markdown",
      "metadata": {
        "id": "I6pNxpJP_EGE"
      },
      "source": [
        "# Word Embedding"
      ]
    },
    {
      "cell_type": "markdown",
      "metadata": {
        "id": "skfV4wdtu5cW"
      },
      "source": [
        "## Get data"
      ]
    },
    {
      "cell_type": "code",
      "execution_count": 1,
      "metadata": {
        "colab": {
          "base_uri": "https://localhost:8080/"
        },
        "id": "fy7AUboA_Hht",
        "outputId": "32ff0100-1fe9-4c28-b74d-03b394d5bc95"
      },
      "outputs": [
        {
          "output_type": "stream",
          "name": "stdout",
          "text": [
            "Mounted at /content/drive\n"
          ]
        }
      ],
      "source": [
        "from google.colab import drive\n",
        "drive.mount(\"/content/drive\")"
      ]
    },
    {
      "cell_type": "code",
      "execution_count": 8,
      "metadata": {
        "colab": {
          "base_uri": "https://localhost:8080/",
          "height": 354
        },
        "id": "-fz94Hrn_N_G",
        "outputId": "1d6c346d-7239-42e5-c809-c8e74b890db8"
      },
      "outputs": [
        {
          "output_type": "execute_result",
          "data": {
            "text/plain": [
              "     Case Number  Votes for Labor Union1  Votes Against  \\\n",
              "0   01-RC-090869                    74.0           45.0   \n",
              "7   28-RC-092433                    88.0           56.0   \n",
              "9   21-RC-092165                    48.0           90.0   \n",
              "12  13-RC-091872                    97.0           59.0   \n",
              "15  03-RC-090207                    37.0           60.0   \n",
              "\n",
              "                                       Tweets - Union Tweets - Labor Org  \\\n",
              "0   [' Preprocess all the meshes into a union of c...                  0   \n",
              "7   [\"I'm at UNLV Student Union (Las Vegas, NV) 4s...                  0   \n",
              "9   ['Union © 🚆 🇺🇸 @ Union Station instagr.am/p/Sj...                  0   \n",
              "12  [' \" ESPN SC NFL - Paul Tagliabue, lawyers for...                  0   \n",
              "15  [\"At End of the World Get together on using so...                  0   \n",
              "\n",
              "                                   Tweets - Case Name  Outcome  \n",
              "0   ['Volunteers, food needed for Thanksgiving - b...     True  \n",
              "7   [\"Antes de salir a los Latin Grammy! Con todo ...     True  \n",
              "9   ['🏥  @ Chapman Medical Center instagr.am/p/RKN...    False  \n",
              "12  ['chicago jobs Group Worker Aide - YMCA of Met...     True  \n",
              "15  [\"I'm at Major League Lacrosse (Boston, MA) 4s...    False  "
            ],
            "text/html": [
              "\n",
              "  <div id=\"df-130bfee6-a74c-4303-982c-c3c56fbd6e67\">\n",
              "    <div class=\"colab-df-container\">\n",
              "      <div>\n",
              "<style scoped>\n",
              "    .dataframe tbody tr th:only-of-type {\n",
              "        vertical-align: middle;\n",
              "    }\n",
              "\n",
              "    .dataframe tbody tr th {\n",
              "        vertical-align: top;\n",
              "    }\n",
              "\n",
              "    .dataframe thead th {\n",
              "        text-align: right;\n",
              "    }\n",
              "</style>\n",
              "<table border=\"1\" class=\"dataframe\">\n",
              "  <thead>\n",
              "    <tr style=\"text-align: right;\">\n",
              "      <th></th>\n",
              "      <th>Case Number</th>\n",
              "      <th>Votes for Labor Union1</th>\n",
              "      <th>Votes Against</th>\n",
              "      <th>Tweets - Union</th>\n",
              "      <th>Tweets - Labor Org</th>\n",
              "      <th>Tweets - Case Name</th>\n",
              "      <th>Outcome</th>\n",
              "    </tr>\n",
              "  </thead>\n",
              "  <tbody>\n",
              "    <tr>\n",
              "      <th>0</th>\n",
              "      <td>01-RC-090869</td>\n",
              "      <td>74.0</td>\n",
              "      <td>45.0</td>\n",
              "      <td>[' Preprocess all the meshes into a union of c...</td>\n",
              "      <td>0</td>\n",
              "      <td>['Volunteers, food needed for Thanksgiving - b...</td>\n",
              "      <td>True</td>\n",
              "    </tr>\n",
              "    <tr>\n",
              "      <th>7</th>\n",
              "      <td>28-RC-092433</td>\n",
              "      <td>88.0</td>\n",
              "      <td>56.0</td>\n",
              "      <td>[\"I'm at UNLV Student Union (Las Vegas, NV) 4s...</td>\n",
              "      <td>0</td>\n",
              "      <td>[\"Antes de salir a los Latin Grammy! Con todo ...</td>\n",
              "      <td>True</td>\n",
              "    </tr>\n",
              "    <tr>\n",
              "      <th>9</th>\n",
              "      <td>21-RC-092165</td>\n",
              "      <td>48.0</td>\n",
              "      <td>90.0</td>\n",
              "      <td>['Union © 🚆 🇺🇸 @ Union Station instagr.am/p/Sj...</td>\n",
              "      <td>0</td>\n",
              "      <td>['🏥  @ Chapman Medical Center instagr.am/p/RKN...</td>\n",
              "      <td>False</td>\n",
              "    </tr>\n",
              "    <tr>\n",
              "      <th>12</th>\n",
              "      <td>13-RC-091872</td>\n",
              "      <td>97.0</td>\n",
              "      <td>59.0</td>\n",
              "      <td>[' \" ESPN SC NFL - Paul Tagliabue, lawyers for...</td>\n",
              "      <td>0</td>\n",
              "      <td>['chicago jobs Group Worker Aide - YMCA of Met...</td>\n",
              "      <td>True</td>\n",
              "    </tr>\n",
              "    <tr>\n",
              "      <th>15</th>\n",
              "      <td>03-RC-090207</td>\n",
              "      <td>37.0</td>\n",
              "      <td>60.0</td>\n",
              "      <td>[\"At End of the World Get together on using so...</td>\n",
              "      <td>0</td>\n",
              "      <td>[\"I'm at Major League Lacrosse (Boston, MA) 4s...</td>\n",
              "      <td>False</td>\n",
              "    </tr>\n",
              "  </tbody>\n",
              "</table>\n",
              "</div>\n",
              "      <button class=\"colab-df-convert\" onclick=\"convertToInteractive('df-130bfee6-a74c-4303-982c-c3c56fbd6e67')\"\n",
              "              title=\"Convert this dataframe to an interactive table.\"\n",
              "              style=\"display:none;\">\n",
              "        \n",
              "  <svg xmlns=\"http://www.w3.org/2000/svg\" height=\"24px\"viewBox=\"0 0 24 24\"\n",
              "       width=\"24px\">\n",
              "    <path d=\"M0 0h24v24H0V0z\" fill=\"none\"/>\n",
              "    <path d=\"M18.56 5.44l.94 2.06.94-2.06 2.06-.94-2.06-.94-.94-2.06-.94 2.06-2.06.94zm-11 1L8.5 8.5l.94-2.06 2.06-.94-2.06-.94L8.5 2.5l-.94 2.06-2.06.94zm10 10l.94 2.06.94-2.06 2.06-.94-2.06-.94-.94-2.06-.94 2.06-2.06.94z\"/><path d=\"M17.41 7.96l-1.37-1.37c-.4-.4-.92-.59-1.43-.59-.52 0-1.04.2-1.43.59L10.3 9.45l-7.72 7.72c-.78.78-.78 2.05 0 2.83L4 21.41c.39.39.9.59 1.41.59.51 0 1.02-.2 1.41-.59l7.78-7.78 2.81-2.81c.8-.78.8-2.07 0-2.86zM5.41 20L4 18.59l7.72-7.72 1.47 1.35L5.41 20z\"/>\n",
              "  </svg>\n",
              "      </button>\n",
              "      \n",
              "  <style>\n",
              "    .colab-df-container {\n",
              "      display:flex;\n",
              "      flex-wrap:wrap;\n",
              "      gap: 12px;\n",
              "    }\n",
              "\n",
              "    .colab-df-convert {\n",
              "      background-color: #E8F0FE;\n",
              "      border: none;\n",
              "      border-radius: 50%;\n",
              "      cursor: pointer;\n",
              "      display: none;\n",
              "      fill: #1967D2;\n",
              "      height: 32px;\n",
              "      padding: 0 0 0 0;\n",
              "      width: 32px;\n",
              "    }\n",
              "\n",
              "    .colab-df-convert:hover {\n",
              "      background-color: #E2EBFA;\n",
              "      box-shadow: 0px 1px 2px rgba(60, 64, 67, 0.3), 0px 1px 3px 1px rgba(60, 64, 67, 0.15);\n",
              "      fill: #174EA6;\n",
              "    }\n",
              "\n",
              "    [theme=dark] .colab-df-convert {\n",
              "      background-color: #3B4455;\n",
              "      fill: #D2E3FC;\n",
              "    }\n",
              "\n",
              "    [theme=dark] .colab-df-convert:hover {\n",
              "      background-color: #434B5C;\n",
              "      box-shadow: 0px 1px 3px 1px rgba(0, 0, 0, 0.15);\n",
              "      filter: drop-shadow(0px 1px 2px rgba(0, 0, 0, 0.3));\n",
              "      fill: #FFFFFF;\n",
              "    }\n",
              "  </style>\n",
              "\n",
              "      <script>\n",
              "        const buttonEl =\n",
              "          document.querySelector('#df-130bfee6-a74c-4303-982c-c3c56fbd6e67 button.colab-df-convert');\n",
              "        buttonEl.style.display =\n",
              "          google.colab.kernel.accessAllowed ? 'block' : 'none';\n",
              "\n",
              "        async function convertToInteractive(key) {\n",
              "          const element = document.querySelector('#df-130bfee6-a74c-4303-982c-c3c56fbd6e67');\n",
              "          const dataTable =\n",
              "            await google.colab.kernel.invokeFunction('convertToInteractive',\n",
              "                                                     [key], {});\n",
              "          if (!dataTable) return;\n",
              "\n",
              "          const docLinkHtml = 'Like what you see? Visit the ' +\n",
              "            '<a target=\"_blank\" href=https://colab.research.google.com/notebooks/data_table.ipynb>data table notebook</a>'\n",
              "            + ' to learn more about interactive tables.';\n",
              "          element.innerHTML = '';\n",
              "          dataTable['output_type'] = 'display_data';\n",
              "          await google.colab.output.renderOutput(dataTable, element);\n",
              "          const docLink = document.createElement('div');\n",
              "          docLink.innerHTML = docLinkHtml;\n",
              "          element.appendChild(docLink);\n",
              "        }\n",
              "      </script>\n",
              "    </div>\n",
              "  </div>\n",
              "  "
            ]
          },
          "metadata": {},
          "execution_count": 8
        }
      ],
      "source": [
        "import pandas as pd\n",
        "import numpy as np\n",
        "import csv\n",
        "import warnings; warnings.filterwarnings(\"ignore\")\n",
        "\n",
        "np.random.seed(618)\n",
        "\n",
        "file_path = \"drive/MyDrive/Academics/MIT 6.7900/\"\n",
        "\n",
        "df = pd.read_excel(file_path + \"elections_with_cleaned_tweets.xlsx\")\n",
        "df = df[[\"Case Number\", \"Votes for Labor Union1\", \"Votes Against\", \n",
        "         \"Tweets - Union\", \"Tweets - Labor Org\", \"Tweets - Case Name\"]]\n",
        "df.fillna(0, inplace = True)\n",
        "df = df[df[\"Tweets - Case Name\"] != 0]\n",
        "\n",
        "df[\"Outcome\"] = df[\"Votes for Labor Union1\"] > df[\"Votes Against\"]\n",
        "\n",
        "df.head()"
      ]
    },
    {
      "cell_type": "code",
      "source": [
        "# train val test split\n",
        "from sklearn.utils import shuffle\n",
        "\n",
        "def trainValTestSplit(df, train_size = 0.8, val_size = 0.9):\n",
        "    assert(val_size > train_size)\n",
        "    l = len(df)\n",
        "    df = shuffle(df)\n",
        "    df_train, df_val, df_test = df.iloc[:int(l * train_size),:], \\\n",
        "                                df.iloc[int(l * train_size):int(l * val_size), :], \\\n",
        "                                df.iloc[int(l * val_size):, :]\n",
        "    return df_train, df_val, df_test\n",
        "\n",
        "df_train, df_val, df_test = trainValTestSplit(df)"
      ],
      "metadata": {
        "id": "kgtcMo0yKt9D"
      },
      "execution_count": 9,
      "outputs": []
    },
    {
      "cell_type": "markdown",
      "metadata": {
        "id": "YyrKZjtkuyGy"
      },
      "source": [
        "## Embedding with BERT"
      ]
    },
    {
      "cell_type": "code",
      "execution_count": 4,
      "metadata": {
        "colab": {
          "base_uri": "https://localhost:8080/"
        },
        "id": "dWndeJTWu2it",
        "outputId": "c0c4986a-eff9-4b9c-d88d-51e083f839c7"
      },
      "outputs": [
        {
          "output_type": "stream",
          "name": "stdout",
          "text": [
            "Looking in indexes: https://pypi.org/simple, https://us-python.pkg.dev/colab-wheels/public/simple/\n",
            "Collecting transformers\n",
            "  Downloading transformers-4.25.1-py3-none-any.whl (5.8 MB)\n",
            "\u001b[K     |████████████████████████████████| 5.8 MB 13.4 MB/s \n",
            "\u001b[?25hCollecting tokenizers!=0.11.3,<0.14,>=0.11.1\n",
            "  Downloading tokenizers-0.13.2-cp38-cp38-manylinux_2_17_x86_64.manylinux2014_x86_64.whl (7.6 MB)\n",
            "\u001b[K     |████████████████████████████████| 7.6 MB 61.6 MB/s \n",
            "\u001b[?25hRequirement already satisfied: regex!=2019.12.17 in /usr/local/lib/python3.8/dist-packages (from transformers) (2022.6.2)\n",
            "Requirement already satisfied: pyyaml>=5.1 in /usr/local/lib/python3.8/dist-packages (from transformers) (6.0)\n",
            "Requirement already satisfied: packaging>=20.0 in /usr/local/lib/python3.8/dist-packages (from transformers) (21.3)\n",
            "Requirement already satisfied: tqdm>=4.27 in /usr/local/lib/python3.8/dist-packages (from transformers) (4.64.1)\n",
            "Requirement already satisfied: filelock in /usr/local/lib/python3.8/dist-packages (from transformers) (3.8.0)\n",
            "Collecting huggingface-hub<1.0,>=0.10.0\n",
            "  Downloading huggingface_hub-0.11.1-py3-none-any.whl (182 kB)\n",
            "\u001b[K     |████████████████████████████████| 182 kB 66.9 MB/s \n",
            "\u001b[?25hRequirement already satisfied: numpy>=1.17 in /usr/local/lib/python3.8/dist-packages (from transformers) (1.21.6)\n",
            "Requirement already satisfied: requests in /usr/local/lib/python3.8/dist-packages (from transformers) (2.23.0)\n",
            "Requirement already satisfied: typing-extensions>=3.7.4.3 in /usr/local/lib/python3.8/dist-packages (from huggingface-hub<1.0,>=0.10.0->transformers) (4.4.0)\n",
            "Requirement already satisfied: pyparsing!=3.0.5,>=2.0.2 in /usr/local/lib/python3.8/dist-packages (from packaging>=20.0->transformers) (3.0.9)\n",
            "Requirement already satisfied: idna<3,>=2.5 in /usr/local/lib/python3.8/dist-packages (from requests->transformers) (2.10)\n",
            "Requirement already satisfied: certifi>=2017.4.17 in /usr/local/lib/python3.8/dist-packages (from requests->transformers) (2022.9.24)\n",
            "Requirement already satisfied: urllib3!=1.25.0,!=1.25.1,<1.26,>=1.21.1 in /usr/local/lib/python3.8/dist-packages (from requests->transformers) (1.24.3)\n",
            "Requirement already satisfied: chardet<4,>=3.0.2 in /usr/local/lib/python3.8/dist-packages (from requests->transformers) (3.0.4)\n",
            "Installing collected packages: tokenizers, huggingface-hub, transformers\n",
            "Successfully installed huggingface-hub-0.11.1 tokenizers-0.13.2 transformers-4.25.1\n"
          ]
        }
      ],
      "source": [
        "!pip install transformers"
      ]
    },
    {
      "cell_type": "code",
      "execution_count": 5,
      "metadata": {
        "id": "lXxTw0CnvBLl",
        "colab": {
          "base_uri": "https://localhost:8080/",
          "height": 113,
          "referenced_widgets": [
            "9946955259024af5b0765007df3889d0",
            "6fe69e439f8b490e883ed4fc9f71409a",
            "b3a2a8de537d4aa1af731d9497115b57",
            "851fcd7090b94768ab67caa21620e659",
            "f65f3cf4a1814e209bdb0a831659a7e3",
            "86a2d07521284d0ba628035f335cd26d",
            "93218b09407e443bba21a5eafe4886fd",
            "74e504cbb51d401eb83624ef7448bbe3",
            "7cf00df5cfb94fefbfcb2fed58e9d191",
            "d6ec42de17e4450abba4b00d3bc1d63e",
            "154c4b4b686148ea84d0e0d72cec4a3f",
            "125ad812ff914bf4b4f2db3e5f836ced",
            "73dc7e89a2e54fc28e6dfef88dcbba1a",
            "6e4d0fd826a74feaa62e09a9b977da33",
            "61a04ca3ba3c4a329d21f8893c122aed",
            "7fb9f3ad015c46e6a86508c34ebb4c1b",
            "0391a633e5b54d3191a9bc769fbe42d2",
            "e3f526a69cd84adcb848f9e8975b27df",
            "8020311b5f8f4a5a907cbe12a3ee627d",
            "719af7390f9d49d291439fdc5ded0ba9",
            "e67eedf3938a459d9afdb0cf55d7b604",
            "7ad91bb40a984468b58ff9386500de18",
            "883861807f52497db4910dd419f58ae6",
            "894e91524400409ebd92782b6aeeca2f",
            "90bc22ebf2294915a4f5ed4e2a18bdf1",
            "6360429fb19d4cc2abf233a332693979",
            "ad43bde54c4849f5ab4e4facbcb5fd75",
            "023d221c07c34b68b10b0b843ef1d618",
            "2ccd072e067149a8aeaf17f920b51597",
            "5af6bf1ec0ab48099458478323e076ba",
            "0293996d49d548639e75e1c76705993e",
            "8ec5f8d0693244aabd493dc964ae538d",
            "a94d9c91a04f41f784db78e651254bc6"
          ]
        },
        "outputId": "24af9dd8-6462-40d9-bd22-46510764b7b2"
      },
      "outputs": [
        {
          "output_type": "display_data",
          "data": {
            "text/plain": [
              "Downloading:   0%|          | 0.00/213k [00:00<?, ?B/s]"
            ],
            "application/vnd.jupyter.widget-view+json": {
              "version_major": 2,
              "version_minor": 0,
              "model_id": "9946955259024af5b0765007df3889d0"
            }
          },
          "metadata": {}
        },
        {
          "output_type": "display_data",
          "data": {
            "text/plain": [
              "Downloading:   0%|          | 0.00/29.0 [00:00<?, ?B/s]"
            ],
            "application/vnd.jupyter.widget-view+json": {
              "version_major": 2,
              "version_minor": 0,
              "model_id": "125ad812ff914bf4b4f2db3e5f836ced"
            }
          },
          "metadata": {}
        },
        {
          "output_type": "display_data",
          "data": {
            "text/plain": [
              "Downloading:   0%|          | 0.00/411 [00:00<?, ?B/s]"
            ],
            "application/vnd.jupyter.widget-view+json": {
              "version_major": 2,
              "version_minor": 0,
              "model_id": "883861807f52497db4910dd419f58ae6"
            }
          },
          "metadata": {}
        }
      ],
      "source": [
        "from transformers import DistilBertTokenizer\n",
        "tokenizer = DistilBertTokenizer.from_pretrained(\"distilbert-base-cased\")"
      ]
    },
    {
      "cell_type": "code",
      "execution_count": 10,
      "metadata": {
        "id": "Hqh-L99eqQTl"
      },
      "outputs": [],
      "source": [
        "import torch\n",
        "\n",
        "def tokenizerFunction(data):\n",
        "    '''\n",
        "    data: list of str\n",
        "    return: list of list of int\n",
        "    '''\n",
        "\n",
        "    tokenized_data = []\n",
        "\n",
        "    for i, sent in enumerate(data):\n",
        "        this_encoding = tokenizer.encode_plus(sent, truncation = True, pad_to_max_length = True,\n",
        "                                              max_length = 64, return_attention_mask = True,\n",
        "                                              return_tensors = 'pt')\n",
        "        tokenized_data.append(this_encoding[\"input_ids\"])\n",
        "    \n",
        "    tokenized_data = torch.cat(tokenized_data, dim = 0)\n",
        "\n",
        "    return tokenized_data.numpy()"
      ]
    },
    {
      "cell_type": "code",
      "source": [
        "def whiteSpaceFix(sent: str) -> str:\n",
        "    return \" \".join(sent.split())\n",
        "\n",
        "def parseString(tweets):\n",
        "    '''\n",
        "    return: list of lists (tweets)\n",
        "    '''\n",
        "    tweets = tweets.replace(\"\\\",\", \"\\',\")\n",
        "    tweets_split = tweets.split(\"\\',\")\n",
        "    tweets_parsed = [tweet[2:] for tweet in tweets_split]\n",
        "    tweets_parsed[-1] = tweets_parsed[-1][:-2]\n",
        "    tweets_parsed = [whiteSpaceFix(tweet) for tweet in tweets_parsed]\n",
        "    return tweets_parsed\n",
        "\n",
        "def tokenizeDataset(df):\n",
        "    '''\n",
        "    df: pandas DataFrame\n",
        "    return: numpy array of all tokenized tweets, \n",
        "            numpy array of labels (P/F),\n",
        "            numpy array of length\n",
        "    '''\n",
        "    df_tk = tokenizerFunction(parseString(df.iloc[0,5]))\n",
        "    label = np.array([df.iloc[0,6]] * df_tk.shape[0])\n",
        "    election = np.zeros(len(df))\n",
        "    election[0] = len(label)\n",
        "    \n",
        "    for i in range(1, len(df)):\n",
        "        if df.iloc[i,5] == 0:\n",
        "            continue\n",
        "        \n",
        "        df_tk_local = tokenizerFunction(parseString(df.iloc[i,5]))\n",
        "        df_tk = np.vstack((df_tk, df_tk_local))\n",
        "        \n",
        "        label_local = np.array([df.iloc[i,6]] * df_tk_local.shape[0])\n",
        "        label = np.hstack((label, label_local))\n",
        "        \n",
        "        election[i] = len(label_local)\n",
        "\n",
        "    return df_tk, label, election\n",
        "\n",
        "df_train_tk, train_label, train_election = tokenizeDataset(df_train)\n",
        "df_val_tk, val_label, val_election = tokenizeDataset(df_val)\n",
        "df_test_tk, test_label, test_election = tokenizeDataset(df_test)"
      ],
      "metadata": {
        "id": "JbzUN8C1I-Wi"
      },
      "execution_count": 11,
      "outputs": []
    },
    {
      "cell_type": "markdown",
      "source": [
        "# Baseline: Gaussian Naive Bayes"
      ],
      "metadata": {
        "id": "FUtKkgofNxTN"
      }
    },
    {
      "cell_type": "code",
      "source": [
        "from sklearn.naive_bayes import GaussianNB\n",
        "from sklearn.metrics import f1_score\n",
        "\n",
        "model_NB = GaussianNB()\n",
        "model_NB.fit(df_train_tk, train_label)"
      ],
      "metadata": {
        "colab": {
          "base_uri": "https://localhost:8080/"
        },
        "id": "YAhwYAjnOSE_",
        "outputId": "75131862-18b2-40d8-d488-6f76bf52d370"
      },
      "execution_count": 12,
      "outputs": [
        {
          "output_type": "execute_result",
          "data": {
            "text/plain": [
              "GaussianNB()"
            ]
          },
          "metadata": {},
          "execution_count": 12
        }
      ]
    },
    {
      "cell_type": "code",
      "source": [
        "def calcMetrics(y_pred, y_true):\n",
        "    '''\n",
        "    return: accuracy, f1 score\n",
        "    '''\n",
        "    acc = len(y_pred[y_pred == y_true]) / len(y_pred)\n",
        "    f1 = f1_score(y_true, y_pred)\n",
        "\n",
        "    return acc, f1"
      ],
      "metadata": {
        "id": "TfD_G2mlorSz"
      },
      "execution_count": 13,
      "outputs": []
    },
    {
      "cell_type": "markdown",
      "source": [
        "## Method 1: Evaluate each tweet then vote by simple majority"
      ],
      "metadata": {
        "id": "O7Lkgl9ZnorU"
      }
    },
    {
      "cell_type": "code",
      "source": [
        "def evaluateEach(label_pred, label_true, election):\n",
        "    '''\n",
        "    label_pred: predicted array of labels (P/F)\n",
        "    label_true: true array of labels (P/F)\n",
        "    election: # of tweets per election\n",
        "    return: accuracy in terms of election, f1 score\n",
        "    '''\n",
        "    election = election.astype(int)\n",
        "    election_label_pred, election_label_true = [], []\n",
        "\n",
        "    for i in range(len(election)):\n",
        "        if election[i] == 0:\n",
        "            continue\n",
        "\n",
        "        start, end = 0, election[i]\n",
        "        if i != 0:\n",
        "            start, end = sum(election[:i]), sum(election[:i+1])\n",
        "        \n",
        "        local_label_pred = label_pred[start:end]\n",
        "        local_label_true = label_true[start:end]\n",
        "\n",
        "        election_label_true.append(local_label_true[0])\n",
        "\n",
        "        local_election_label_pred = False\n",
        "        if len(local_label_pred[local_label_pred]) > len(local_label_pred[~local_label_pred]):\n",
        "            local_election_label_pred = True\n",
        "        election_label_pred.append(local_election_label_pred)\n",
        "    \n",
        "    assert len(election_label_pred) == len(election_label_true)\n",
        "\n",
        "    election_label_pred = np.array(election_label_pred)\n",
        "    election_label_true = np.array(election_label_true)\n",
        "\n",
        "    acc, f1 = calcMetrics(election_label_pred, election_label_true)\n",
        "\n",
        "    return acc, f1"
      ],
      "metadata": {
        "id": "a6QBJpG7OQhH"
      },
      "execution_count": 14,
      "outputs": []
    },
    {
      "cell_type": "code",
      "source": [
        "val_label_pred = model_NB.predict(df_val_tk)\n",
        "evaluateEach(val_label_pred, val_label, val_election)"
      ],
      "metadata": {
        "colab": {
          "base_uri": "https://localhost:8080/"
        },
        "id": "xV61kRP1nw1S",
        "outputId": "b890bcef-df77-4c9e-ecc4-ece5ddbbe478"
      },
      "execution_count": 15,
      "outputs": [
        {
          "output_type": "execute_result",
          "data": {
            "text/plain": [
              "(0.42857142857142855, 0.5294117647058824)"
            ]
          },
          "metadata": {},
          "execution_count": 15
        }
      ]
    },
    {
      "cell_type": "markdown",
      "source": [
        "## Method 2: Evalute by vector mean of each election"
      ],
      "metadata": {
        "id": "4Rco2WuNoOKk"
      }
    },
    {
      "cell_type": "code",
      "source": [
        "def evaluateMean(df_tk, label_true, election, model):\n",
        "    '''\n",
        "    df_tk: tokenized tweets\n",
        "    label_true: true label\n",
        "    election: position\n",
        "    model: fitted model\n",
        "    '''\n",
        "    election = election.astype(int)\n",
        "    election_label_pred, election_label_true = [], []\n",
        "\n",
        "    for i in range(len(election)):\n",
        "        if election[i] == 0:\n",
        "            continue\n",
        "\n",
        "        start, end = 0, election[i]\n",
        "        if i != 0:\n",
        "            start, end = sum(election[:i]), sum(election[:i+1])\n",
        "        \n",
        "        local_df_tk = df_tk[start:end, :]\n",
        "        local_label_true = label_true[start:end]\n",
        "\n",
        "        election_label_true.append(local_label_true[0])\n",
        "\n",
        "        local_df_tk_mean = local_df_tk.mean(axis = 0)\n",
        "        local_label_pred = model.predict(np.array([local_df_tk_mean]))\n",
        "        election_label_pred.extend(local_label_pred)\n",
        "\n",
        "    assert len(election_label_pred) == len(election_label_true)\n",
        "\n",
        "    election_label_pred = np.array(election_label_pred)\n",
        "    election_label_true = np.array(election_label_true)\n",
        "\n",
        "    acc, f1 = calcMetrics(election_label_pred, election_label_true)\n",
        "\n",
        "    return acc, f1"
      ],
      "metadata": {
        "id": "ZSbSaByJoQsi"
      },
      "execution_count": 16,
      "outputs": []
    },
    {
      "cell_type": "code",
      "source": [
        "evaluateMean(df_val_tk, val_label, val_election, model_NB)"
      ],
      "metadata": {
        "colab": {
          "base_uri": "https://localhost:8080/"
        },
        "id": "8LjP9d56sQs4",
        "outputId": "12b72249-9b90-4c34-aaa4-6dc3513258c2"
      },
      "execution_count": 17,
      "outputs": [
        {
          "output_type": "execute_result",
          "data": {
            "text/plain": [
              "(0.32142857142857145, 0.3870967741935484)"
            ]
          },
          "metadata": {},
          "execution_count": 17
        }
      ]
    },
    {
      "cell_type": "markdown",
      "source": [
        "## Compare: randomly generate outcome predictions"
      ],
      "metadata": {
        "id": "hK0rt-AkPoFg"
      }
    },
    {
      "cell_type": "code",
      "source": [
        "def evaluateRandom(label_true, election):\n",
        "    election = election.astype(int)\n",
        "    election_label_true = []\n",
        "\n",
        "    for i in range(len(election)):\n",
        "        if election[i] == 0:\n",
        "            continue\n",
        "\n",
        "        start, end = 0, election[i]\n",
        "        if i != 0:\n",
        "            start, end = sum(election[:i]), sum(election[:i+1])\n",
        "\n",
        "        local_label_true = label_true[start:end]\n",
        "\n",
        "        election_label_true.append(local_label_true[0])\n",
        "    \n",
        "    election_label_pred = np.random.randint(0, 2, len(election_label_true))\n",
        "\n",
        "    return calcMetrics(election_label_pred, election_label_true)"
      ],
      "metadata": {
        "id": "tsQ_kpKSPtHq"
      },
      "execution_count": 18,
      "outputs": []
    },
    {
      "cell_type": "code",
      "source": [
        "acc, f1 = 0, 0\n",
        "for i in range(300):\n",
        "    local_acc, local_f1 = evaluateRandom(val_label, val_election)\n",
        "    acc += local_acc\n",
        "    f1 += local_f1\n",
        "print(acc / 300)\n",
        "print(f1 / 300)"
      ],
      "metadata": {
        "colab": {
          "base_uri": "https://localhost:8080/"
        },
        "id": "YPytrgP6QvJZ",
        "outputId": "693b828b-7ee1-409f-ba73-cac0e0a500df"
      },
      "execution_count": 20,
      "outputs": [
        {
          "output_type": "stream",
          "name": "stdout",
          "text": [
            "0.5004761904761905\n",
            "0.6062037585520911\n"
          ]
        }
      ]
    }
  ],
  "metadata": {
    "accelerator": "GPU",
    "colab": {
      "toc_visible": true,
      "provenance": []
    },
    "gpuClass": "standard",
    "kernelspec": {
      "display_name": "Python 3",
      "name": "python3"
    },
    "language_info": {
      "name": "python"
    },
    "widgets": {
      "application/vnd.jupyter.widget-state+json": {
        "9946955259024af5b0765007df3889d0": {
          "model_module": "@jupyter-widgets/controls",
          "model_name": "HBoxModel",
          "model_module_version": "1.5.0",
          "state": {
            "_dom_classes": [],
            "_model_module": "@jupyter-widgets/controls",
            "_model_module_version": "1.5.0",
            "_model_name": "HBoxModel",
            "_view_count": null,
            "_view_module": "@jupyter-widgets/controls",
            "_view_module_version": "1.5.0",
            "_view_name": "HBoxView",
            "box_style": "",
            "children": [
              "IPY_MODEL_6fe69e439f8b490e883ed4fc9f71409a",
              "IPY_MODEL_b3a2a8de537d4aa1af731d9497115b57",
              "IPY_MODEL_851fcd7090b94768ab67caa21620e659"
            ],
            "layout": "IPY_MODEL_f65f3cf4a1814e209bdb0a831659a7e3"
          }
        },
        "6fe69e439f8b490e883ed4fc9f71409a": {
          "model_module": "@jupyter-widgets/controls",
          "model_name": "HTMLModel",
          "model_module_version": "1.5.0",
          "state": {
            "_dom_classes": [],
            "_model_module": "@jupyter-widgets/controls",
            "_model_module_version": "1.5.0",
            "_model_name": "HTMLModel",
            "_view_count": null,
            "_view_module": "@jupyter-widgets/controls",
            "_view_module_version": "1.5.0",
            "_view_name": "HTMLView",
            "description": "",
            "description_tooltip": null,
            "layout": "IPY_MODEL_86a2d07521284d0ba628035f335cd26d",
            "placeholder": "​",
            "style": "IPY_MODEL_93218b09407e443bba21a5eafe4886fd",
            "value": "Downloading: 100%"
          }
        },
        "b3a2a8de537d4aa1af731d9497115b57": {
          "model_module": "@jupyter-widgets/controls",
          "model_name": "FloatProgressModel",
          "model_module_version": "1.5.0",
          "state": {
            "_dom_classes": [],
            "_model_module": "@jupyter-widgets/controls",
            "_model_module_version": "1.5.0",
            "_model_name": "FloatProgressModel",
            "_view_count": null,
            "_view_module": "@jupyter-widgets/controls",
            "_view_module_version": "1.5.0",
            "_view_name": "ProgressView",
            "bar_style": "success",
            "description": "",
            "description_tooltip": null,
            "layout": "IPY_MODEL_74e504cbb51d401eb83624ef7448bbe3",
            "max": 213450,
            "min": 0,
            "orientation": "horizontal",
            "style": "IPY_MODEL_7cf00df5cfb94fefbfcb2fed58e9d191",
            "value": 213450
          }
        },
        "851fcd7090b94768ab67caa21620e659": {
          "model_module": "@jupyter-widgets/controls",
          "model_name": "HTMLModel",
          "model_module_version": "1.5.0",
          "state": {
            "_dom_classes": [],
            "_model_module": "@jupyter-widgets/controls",
            "_model_module_version": "1.5.0",
            "_model_name": "HTMLModel",
            "_view_count": null,
            "_view_module": "@jupyter-widgets/controls",
            "_view_module_version": "1.5.0",
            "_view_name": "HTMLView",
            "description": "",
            "description_tooltip": null,
            "layout": "IPY_MODEL_d6ec42de17e4450abba4b00d3bc1d63e",
            "placeholder": "​",
            "style": "IPY_MODEL_154c4b4b686148ea84d0e0d72cec4a3f",
            "value": " 213k/213k [00:00&lt;00:00, 653kB/s]"
          }
        },
        "f65f3cf4a1814e209bdb0a831659a7e3": {
          "model_module": "@jupyter-widgets/base",
          "model_name": "LayoutModel",
          "model_module_version": "1.2.0",
          "state": {
            "_model_module": "@jupyter-widgets/base",
            "_model_module_version": "1.2.0",
            "_model_name": "LayoutModel",
            "_view_count": null,
            "_view_module": "@jupyter-widgets/base",
            "_view_module_version": "1.2.0",
            "_view_name": "LayoutView",
            "align_content": null,
            "align_items": null,
            "align_self": null,
            "border": null,
            "bottom": null,
            "display": null,
            "flex": null,
            "flex_flow": null,
            "grid_area": null,
            "grid_auto_columns": null,
            "grid_auto_flow": null,
            "grid_auto_rows": null,
            "grid_column": null,
            "grid_gap": null,
            "grid_row": null,
            "grid_template_areas": null,
            "grid_template_columns": null,
            "grid_template_rows": null,
            "height": null,
            "justify_content": null,
            "justify_items": null,
            "left": null,
            "margin": null,
            "max_height": null,
            "max_width": null,
            "min_height": null,
            "min_width": null,
            "object_fit": null,
            "object_position": null,
            "order": null,
            "overflow": null,
            "overflow_x": null,
            "overflow_y": null,
            "padding": null,
            "right": null,
            "top": null,
            "visibility": null,
            "width": null
          }
        },
        "86a2d07521284d0ba628035f335cd26d": {
          "model_module": "@jupyter-widgets/base",
          "model_name": "LayoutModel",
          "model_module_version": "1.2.0",
          "state": {
            "_model_module": "@jupyter-widgets/base",
            "_model_module_version": "1.2.0",
            "_model_name": "LayoutModel",
            "_view_count": null,
            "_view_module": "@jupyter-widgets/base",
            "_view_module_version": "1.2.0",
            "_view_name": "LayoutView",
            "align_content": null,
            "align_items": null,
            "align_self": null,
            "border": null,
            "bottom": null,
            "display": null,
            "flex": null,
            "flex_flow": null,
            "grid_area": null,
            "grid_auto_columns": null,
            "grid_auto_flow": null,
            "grid_auto_rows": null,
            "grid_column": null,
            "grid_gap": null,
            "grid_row": null,
            "grid_template_areas": null,
            "grid_template_columns": null,
            "grid_template_rows": null,
            "height": null,
            "justify_content": null,
            "justify_items": null,
            "left": null,
            "margin": null,
            "max_height": null,
            "max_width": null,
            "min_height": null,
            "min_width": null,
            "object_fit": null,
            "object_position": null,
            "order": null,
            "overflow": null,
            "overflow_x": null,
            "overflow_y": null,
            "padding": null,
            "right": null,
            "top": null,
            "visibility": null,
            "width": null
          }
        },
        "93218b09407e443bba21a5eafe4886fd": {
          "model_module": "@jupyter-widgets/controls",
          "model_name": "DescriptionStyleModel",
          "model_module_version": "1.5.0",
          "state": {
            "_model_module": "@jupyter-widgets/controls",
            "_model_module_version": "1.5.0",
            "_model_name": "DescriptionStyleModel",
            "_view_count": null,
            "_view_module": "@jupyter-widgets/base",
            "_view_module_version": "1.2.0",
            "_view_name": "StyleView",
            "description_width": ""
          }
        },
        "74e504cbb51d401eb83624ef7448bbe3": {
          "model_module": "@jupyter-widgets/base",
          "model_name": "LayoutModel",
          "model_module_version": "1.2.0",
          "state": {
            "_model_module": "@jupyter-widgets/base",
            "_model_module_version": "1.2.0",
            "_model_name": "LayoutModel",
            "_view_count": null,
            "_view_module": "@jupyter-widgets/base",
            "_view_module_version": "1.2.0",
            "_view_name": "LayoutView",
            "align_content": null,
            "align_items": null,
            "align_self": null,
            "border": null,
            "bottom": null,
            "display": null,
            "flex": null,
            "flex_flow": null,
            "grid_area": null,
            "grid_auto_columns": null,
            "grid_auto_flow": null,
            "grid_auto_rows": null,
            "grid_column": null,
            "grid_gap": null,
            "grid_row": null,
            "grid_template_areas": null,
            "grid_template_columns": null,
            "grid_template_rows": null,
            "height": null,
            "justify_content": null,
            "justify_items": null,
            "left": null,
            "margin": null,
            "max_height": null,
            "max_width": null,
            "min_height": null,
            "min_width": null,
            "object_fit": null,
            "object_position": null,
            "order": null,
            "overflow": null,
            "overflow_x": null,
            "overflow_y": null,
            "padding": null,
            "right": null,
            "top": null,
            "visibility": null,
            "width": null
          }
        },
        "7cf00df5cfb94fefbfcb2fed58e9d191": {
          "model_module": "@jupyter-widgets/controls",
          "model_name": "ProgressStyleModel",
          "model_module_version": "1.5.0",
          "state": {
            "_model_module": "@jupyter-widgets/controls",
            "_model_module_version": "1.5.0",
            "_model_name": "ProgressStyleModel",
            "_view_count": null,
            "_view_module": "@jupyter-widgets/base",
            "_view_module_version": "1.2.0",
            "_view_name": "StyleView",
            "bar_color": null,
            "description_width": ""
          }
        },
        "d6ec42de17e4450abba4b00d3bc1d63e": {
          "model_module": "@jupyter-widgets/base",
          "model_name": "LayoutModel",
          "model_module_version": "1.2.0",
          "state": {
            "_model_module": "@jupyter-widgets/base",
            "_model_module_version": "1.2.0",
            "_model_name": "LayoutModel",
            "_view_count": null,
            "_view_module": "@jupyter-widgets/base",
            "_view_module_version": "1.2.0",
            "_view_name": "LayoutView",
            "align_content": null,
            "align_items": null,
            "align_self": null,
            "border": null,
            "bottom": null,
            "display": null,
            "flex": null,
            "flex_flow": null,
            "grid_area": null,
            "grid_auto_columns": null,
            "grid_auto_flow": null,
            "grid_auto_rows": null,
            "grid_column": null,
            "grid_gap": null,
            "grid_row": null,
            "grid_template_areas": null,
            "grid_template_columns": null,
            "grid_template_rows": null,
            "height": null,
            "justify_content": null,
            "justify_items": null,
            "left": null,
            "margin": null,
            "max_height": null,
            "max_width": null,
            "min_height": null,
            "min_width": null,
            "object_fit": null,
            "object_position": null,
            "order": null,
            "overflow": null,
            "overflow_x": null,
            "overflow_y": null,
            "padding": null,
            "right": null,
            "top": null,
            "visibility": null,
            "width": null
          }
        },
        "154c4b4b686148ea84d0e0d72cec4a3f": {
          "model_module": "@jupyter-widgets/controls",
          "model_name": "DescriptionStyleModel",
          "model_module_version": "1.5.0",
          "state": {
            "_model_module": "@jupyter-widgets/controls",
            "_model_module_version": "1.5.0",
            "_model_name": "DescriptionStyleModel",
            "_view_count": null,
            "_view_module": "@jupyter-widgets/base",
            "_view_module_version": "1.2.0",
            "_view_name": "StyleView",
            "description_width": ""
          }
        },
        "125ad812ff914bf4b4f2db3e5f836ced": {
          "model_module": "@jupyter-widgets/controls",
          "model_name": "HBoxModel",
          "model_module_version": "1.5.0",
          "state": {
            "_dom_classes": [],
            "_model_module": "@jupyter-widgets/controls",
            "_model_module_version": "1.5.0",
            "_model_name": "HBoxModel",
            "_view_count": null,
            "_view_module": "@jupyter-widgets/controls",
            "_view_module_version": "1.5.0",
            "_view_name": "HBoxView",
            "box_style": "",
            "children": [
              "IPY_MODEL_73dc7e89a2e54fc28e6dfef88dcbba1a",
              "IPY_MODEL_6e4d0fd826a74feaa62e09a9b977da33",
              "IPY_MODEL_61a04ca3ba3c4a329d21f8893c122aed"
            ],
            "layout": "IPY_MODEL_7fb9f3ad015c46e6a86508c34ebb4c1b"
          }
        },
        "73dc7e89a2e54fc28e6dfef88dcbba1a": {
          "model_module": "@jupyter-widgets/controls",
          "model_name": "HTMLModel",
          "model_module_version": "1.5.0",
          "state": {
            "_dom_classes": [],
            "_model_module": "@jupyter-widgets/controls",
            "_model_module_version": "1.5.0",
            "_model_name": "HTMLModel",
            "_view_count": null,
            "_view_module": "@jupyter-widgets/controls",
            "_view_module_version": "1.5.0",
            "_view_name": "HTMLView",
            "description": "",
            "description_tooltip": null,
            "layout": "IPY_MODEL_0391a633e5b54d3191a9bc769fbe42d2",
            "placeholder": "​",
            "style": "IPY_MODEL_e3f526a69cd84adcb848f9e8975b27df",
            "value": "Downloading: 100%"
          }
        },
        "6e4d0fd826a74feaa62e09a9b977da33": {
          "model_module": "@jupyter-widgets/controls",
          "model_name": "FloatProgressModel",
          "model_module_version": "1.5.0",
          "state": {
            "_dom_classes": [],
            "_model_module": "@jupyter-widgets/controls",
            "_model_module_version": "1.5.0",
            "_model_name": "FloatProgressModel",
            "_view_count": null,
            "_view_module": "@jupyter-widgets/controls",
            "_view_module_version": "1.5.0",
            "_view_name": "ProgressView",
            "bar_style": "success",
            "description": "",
            "description_tooltip": null,
            "layout": "IPY_MODEL_8020311b5f8f4a5a907cbe12a3ee627d",
            "max": 29,
            "min": 0,
            "orientation": "horizontal",
            "style": "IPY_MODEL_719af7390f9d49d291439fdc5ded0ba9",
            "value": 29
          }
        },
        "61a04ca3ba3c4a329d21f8893c122aed": {
          "model_module": "@jupyter-widgets/controls",
          "model_name": "HTMLModel",
          "model_module_version": "1.5.0",
          "state": {
            "_dom_classes": [],
            "_model_module": "@jupyter-widgets/controls",
            "_model_module_version": "1.5.0",
            "_model_name": "HTMLModel",
            "_view_count": null,
            "_view_module": "@jupyter-widgets/controls",
            "_view_module_version": "1.5.0",
            "_view_name": "HTMLView",
            "description": "",
            "description_tooltip": null,
            "layout": "IPY_MODEL_e67eedf3938a459d9afdb0cf55d7b604",
            "placeholder": "​",
            "style": "IPY_MODEL_7ad91bb40a984468b58ff9386500de18",
            "value": " 29.0/29.0 [00:00&lt;00:00, 295B/s]"
          }
        },
        "7fb9f3ad015c46e6a86508c34ebb4c1b": {
          "model_module": "@jupyter-widgets/base",
          "model_name": "LayoutModel",
          "model_module_version": "1.2.0",
          "state": {
            "_model_module": "@jupyter-widgets/base",
            "_model_module_version": "1.2.0",
            "_model_name": "LayoutModel",
            "_view_count": null,
            "_view_module": "@jupyter-widgets/base",
            "_view_module_version": "1.2.0",
            "_view_name": "LayoutView",
            "align_content": null,
            "align_items": null,
            "align_self": null,
            "border": null,
            "bottom": null,
            "display": null,
            "flex": null,
            "flex_flow": null,
            "grid_area": null,
            "grid_auto_columns": null,
            "grid_auto_flow": null,
            "grid_auto_rows": null,
            "grid_column": null,
            "grid_gap": null,
            "grid_row": null,
            "grid_template_areas": null,
            "grid_template_columns": null,
            "grid_template_rows": null,
            "height": null,
            "justify_content": null,
            "justify_items": null,
            "left": null,
            "margin": null,
            "max_height": null,
            "max_width": null,
            "min_height": null,
            "min_width": null,
            "object_fit": null,
            "object_position": null,
            "order": null,
            "overflow": null,
            "overflow_x": null,
            "overflow_y": null,
            "padding": null,
            "right": null,
            "top": null,
            "visibility": null,
            "width": null
          }
        },
        "0391a633e5b54d3191a9bc769fbe42d2": {
          "model_module": "@jupyter-widgets/base",
          "model_name": "LayoutModel",
          "model_module_version": "1.2.0",
          "state": {
            "_model_module": "@jupyter-widgets/base",
            "_model_module_version": "1.2.0",
            "_model_name": "LayoutModel",
            "_view_count": null,
            "_view_module": "@jupyter-widgets/base",
            "_view_module_version": "1.2.0",
            "_view_name": "LayoutView",
            "align_content": null,
            "align_items": null,
            "align_self": null,
            "border": null,
            "bottom": null,
            "display": null,
            "flex": null,
            "flex_flow": null,
            "grid_area": null,
            "grid_auto_columns": null,
            "grid_auto_flow": null,
            "grid_auto_rows": null,
            "grid_column": null,
            "grid_gap": null,
            "grid_row": null,
            "grid_template_areas": null,
            "grid_template_columns": null,
            "grid_template_rows": null,
            "height": null,
            "justify_content": null,
            "justify_items": null,
            "left": null,
            "margin": null,
            "max_height": null,
            "max_width": null,
            "min_height": null,
            "min_width": null,
            "object_fit": null,
            "object_position": null,
            "order": null,
            "overflow": null,
            "overflow_x": null,
            "overflow_y": null,
            "padding": null,
            "right": null,
            "top": null,
            "visibility": null,
            "width": null
          }
        },
        "e3f526a69cd84adcb848f9e8975b27df": {
          "model_module": "@jupyter-widgets/controls",
          "model_name": "DescriptionStyleModel",
          "model_module_version": "1.5.0",
          "state": {
            "_model_module": "@jupyter-widgets/controls",
            "_model_module_version": "1.5.0",
            "_model_name": "DescriptionStyleModel",
            "_view_count": null,
            "_view_module": "@jupyter-widgets/base",
            "_view_module_version": "1.2.0",
            "_view_name": "StyleView",
            "description_width": ""
          }
        },
        "8020311b5f8f4a5a907cbe12a3ee627d": {
          "model_module": "@jupyter-widgets/base",
          "model_name": "LayoutModel",
          "model_module_version": "1.2.0",
          "state": {
            "_model_module": "@jupyter-widgets/base",
            "_model_module_version": "1.2.0",
            "_model_name": "LayoutModel",
            "_view_count": null,
            "_view_module": "@jupyter-widgets/base",
            "_view_module_version": "1.2.0",
            "_view_name": "LayoutView",
            "align_content": null,
            "align_items": null,
            "align_self": null,
            "border": null,
            "bottom": null,
            "display": null,
            "flex": null,
            "flex_flow": null,
            "grid_area": null,
            "grid_auto_columns": null,
            "grid_auto_flow": null,
            "grid_auto_rows": null,
            "grid_column": null,
            "grid_gap": null,
            "grid_row": null,
            "grid_template_areas": null,
            "grid_template_columns": null,
            "grid_template_rows": null,
            "height": null,
            "justify_content": null,
            "justify_items": null,
            "left": null,
            "margin": null,
            "max_height": null,
            "max_width": null,
            "min_height": null,
            "min_width": null,
            "object_fit": null,
            "object_position": null,
            "order": null,
            "overflow": null,
            "overflow_x": null,
            "overflow_y": null,
            "padding": null,
            "right": null,
            "top": null,
            "visibility": null,
            "width": null
          }
        },
        "719af7390f9d49d291439fdc5ded0ba9": {
          "model_module": "@jupyter-widgets/controls",
          "model_name": "ProgressStyleModel",
          "model_module_version": "1.5.0",
          "state": {
            "_model_module": "@jupyter-widgets/controls",
            "_model_module_version": "1.5.0",
            "_model_name": "ProgressStyleModel",
            "_view_count": null,
            "_view_module": "@jupyter-widgets/base",
            "_view_module_version": "1.2.0",
            "_view_name": "StyleView",
            "bar_color": null,
            "description_width": ""
          }
        },
        "e67eedf3938a459d9afdb0cf55d7b604": {
          "model_module": "@jupyter-widgets/base",
          "model_name": "LayoutModel",
          "model_module_version": "1.2.0",
          "state": {
            "_model_module": "@jupyter-widgets/base",
            "_model_module_version": "1.2.0",
            "_model_name": "LayoutModel",
            "_view_count": null,
            "_view_module": "@jupyter-widgets/base",
            "_view_module_version": "1.2.0",
            "_view_name": "LayoutView",
            "align_content": null,
            "align_items": null,
            "align_self": null,
            "border": null,
            "bottom": null,
            "display": null,
            "flex": null,
            "flex_flow": null,
            "grid_area": null,
            "grid_auto_columns": null,
            "grid_auto_flow": null,
            "grid_auto_rows": null,
            "grid_column": null,
            "grid_gap": null,
            "grid_row": null,
            "grid_template_areas": null,
            "grid_template_columns": null,
            "grid_template_rows": null,
            "height": null,
            "justify_content": null,
            "justify_items": null,
            "left": null,
            "margin": null,
            "max_height": null,
            "max_width": null,
            "min_height": null,
            "min_width": null,
            "object_fit": null,
            "object_position": null,
            "order": null,
            "overflow": null,
            "overflow_x": null,
            "overflow_y": null,
            "padding": null,
            "right": null,
            "top": null,
            "visibility": null,
            "width": null
          }
        },
        "7ad91bb40a984468b58ff9386500de18": {
          "model_module": "@jupyter-widgets/controls",
          "model_name": "DescriptionStyleModel",
          "model_module_version": "1.5.0",
          "state": {
            "_model_module": "@jupyter-widgets/controls",
            "_model_module_version": "1.5.0",
            "_model_name": "DescriptionStyleModel",
            "_view_count": null,
            "_view_module": "@jupyter-widgets/base",
            "_view_module_version": "1.2.0",
            "_view_name": "StyleView",
            "description_width": ""
          }
        },
        "883861807f52497db4910dd419f58ae6": {
          "model_module": "@jupyter-widgets/controls",
          "model_name": "HBoxModel",
          "model_module_version": "1.5.0",
          "state": {
            "_dom_classes": [],
            "_model_module": "@jupyter-widgets/controls",
            "_model_module_version": "1.5.0",
            "_model_name": "HBoxModel",
            "_view_count": null,
            "_view_module": "@jupyter-widgets/controls",
            "_view_module_version": "1.5.0",
            "_view_name": "HBoxView",
            "box_style": "",
            "children": [
              "IPY_MODEL_894e91524400409ebd92782b6aeeca2f",
              "IPY_MODEL_90bc22ebf2294915a4f5ed4e2a18bdf1",
              "IPY_MODEL_6360429fb19d4cc2abf233a332693979"
            ],
            "layout": "IPY_MODEL_ad43bde54c4849f5ab4e4facbcb5fd75"
          }
        },
        "894e91524400409ebd92782b6aeeca2f": {
          "model_module": "@jupyter-widgets/controls",
          "model_name": "HTMLModel",
          "model_module_version": "1.5.0",
          "state": {
            "_dom_classes": [],
            "_model_module": "@jupyter-widgets/controls",
            "_model_module_version": "1.5.0",
            "_model_name": "HTMLModel",
            "_view_count": null,
            "_view_module": "@jupyter-widgets/controls",
            "_view_module_version": "1.5.0",
            "_view_name": "HTMLView",
            "description": "",
            "description_tooltip": null,
            "layout": "IPY_MODEL_023d221c07c34b68b10b0b843ef1d618",
            "placeholder": "​",
            "style": "IPY_MODEL_2ccd072e067149a8aeaf17f920b51597",
            "value": "Downloading: 100%"
          }
        },
        "90bc22ebf2294915a4f5ed4e2a18bdf1": {
          "model_module": "@jupyter-widgets/controls",
          "model_name": "FloatProgressModel",
          "model_module_version": "1.5.0",
          "state": {
            "_dom_classes": [],
            "_model_module": "@jupyter-widgets/controls",
            "_model_module_version": "1.5.0",
            "_model_name": "FloatProgressModel",
            "_view_count": null,
            "_view_module": "@jupyter-widgets/controls",
            "_view_module_version": "1.5.0",
            "_view_name": "ProgressView",
            "bar_style": "success",
            "description": "",
            "description_tooltip": null,
            "layout": "IPY_MODEL_5af6bf1ec0ab48099458478323e076ba",
            "max": 411,
            "min": 0,
            "orientation": "horizontal",
            "style": "IPY_MODEL_0293996d49d548639e75e1c76705993e",
            "value": 411
          }
        },
        "6360429fb19d4cc2abf233a332693979": {
          "model_module": "@jupyter-widgets/controls",
          "model_name": "HTMLModel",
          "model_module_version": "1.5.0",
          "state": {
            "_dom_classes": [],
            "_model_module": "@jupyter-widgets/controls",
            "_model_module_version": "1.5.0",
            "_model_name": "HTMLModel",
            "_view_count": null,
            "_view_module": "@jupyter-widgets/controls",
            "_view_module_version": "1.5.0",
            "_view_name": "HTMLView",
            "description": "",
            "description_tooltip": null,
            "layout": "IPY_MODEL_8ec5f8d0693244aabd493dc964ae538d",
            "placeholder": "​",
            "style": "IPY_MODEL_a94d9c91a04f41f784db78e651254bc6",
            "value": " 411/411 [00:00&lt;00:00, 4.02kB/s]"
          }
        },
        "ad43bde54c4849f5ab4e4facbcb5fd75": {
          "model_module": "@jupyter-widgets/base",
          "model_name": "LayoutModel",
          "model_module_version": "1.2.0",
          "state": {
            "_model_module": "@jupyter-widgets/base",
            "_model_module_version": "1.2.0",
            "_model_name": "LayoutModel",
            "_view_count": null,
            "_view_module": "@jupyter-widgets/base",
            "_view_module_version": "1.2.0",
            "_view_name": "LayoutView",
            "align_content": null,
            "align_items": null,
            "align_self": null,
            "border": null,
            "bottom": null,
            "display": null,
            "flex": null,
            "flex_flow": null,
            "grid_area": null,
            "grid_auto_columns": null,
            "grid_auto_flow": null,
            "grid_auto_rows": null,
            "grid_column": null,
            "grid_gap": null,
            "grid_row": null,
            "grid_template_areas": null,
            "grid_template_columns": null,
            "grid_template_rows": null,
            "height": null,
            "justify_content": null,
            "justify_items": null,
            "left": null,
            "margin": null,
            "max_height": null,
            "max_width": null,
            "min_height": null,
            "min_width": null,
            "object_fit": null,
            "object_position": null,
            "order": null,
            "overflow": null,
            "overflow_x": null,
            "overflow_y": null,
            "padding": null,
            "right": null,
            "top": null,
            "visibility": null,
            "width": null
          }
        },
        "023d221c07c34b68b10b0b843ef1d618": {
          "model_module": "@jupyter-widgets/base",
          "model_name": "LayoutModel",
          "model_module_version": "1.2.0",
          "state": {
            "_model_module": "@jupyter-widgets/base",
            "_model_module_version": "1.2.0",
            "_model_name": "LayoutModel",
            "_view_count": null,
            "_view_module": "@jupyter-widgets/base",
            "_view_module_version": "1.2.0",
            "_view_name": "LayoutView",
            "align_content": null,
            "align_items": null,
            "align_self": null,
            "border": null,
            "bottom": null,
            "display": null,
            "flex": null,
            "flex_flow": null,
            "grid_area": null,
            "grid_auto_columns": null,
            "grid_auto_flow": null,
            "grid_auto_rows": null,
            "grid_column": null,
            "grid_gap": null,
            "grid_row": null,
            "grid_template_areas": null,
            "grid_template_columns": null,
            "grid_template_rows": null,
            "height": null,
            "justify_content": null,
            "justify_items": null,
            "left": null,
            "margin": null,
            "max_height": null,
            "max_width": null,
            "min_height": null,
            "min_width": null,
            "object_fit": null,
            "object_position": null,
            "order": null,
            "overflow": null,
            "overflow_x": null,
            "overflow_y": null,
            "padding": null,
            "right": null,
            "top": null,
            "visibility": null,
            "width": null
          }
        },
        "2ccd072e067149a8aeaf17f920b51597": {
          "model_module": "@jupyter-widgets/controls",
          "model_name": "DescriptionStyleModel",
          "model_module_version": "1.5.0",
          "state": {
            "_model_module": "@jupyter-widgets/controls",
            "_model_module_version": "1.5.0",
            "_model_name": "DescriptionStyleModel",
            "_view_count": null,
            "_view_module": "@jupyter-widgets/base",
            "_view_module_version": "1.2.0",
            "_view_name": "StyleView",
            "description_width": ""
          }
        },
        "5af6bf1ec0ab48099458478323e076ba": {
          "model_module": "@jupyter-widgets/base",
          "model_name": "LayoutModel",
          "model_module_version": "1.2.0",
          "state": {
            "_model_module": "@jupyter-widgets/base",
            "_model_module_version": "1.2.0",
            "_model_name": "LayoutModel",
            "_view_count": null,
            "_view_module": "@jupyter-widgets/base",
            "_view_module_version": "1.2.0",
            "_view_name": "LayoutView",
            "align_content": null,
            "align_items": null,
            "align_self": null,
            "border": null,
            "bottom": null,
            "display": null,
            "flex": null,
            "flex_flow": null,
            "grid_area": null,
            "grid_auto_columns": null,
            "grid_auto_flow": null,
            "grid_auto_rows": null,
            "grid_column": null,
            "grid_gap": null,
            "grid_row": null,
            "grid_template_areas": null,
            "grid_template_columns": null,
            "grid_template_rows": null,
            "height": null,
            "justify_content": null,
            "justify_items": null,
            "left": null,
            "margin": null,
            "max_height": null,
            "max_width": null,
            "min_height": null,
            "min_width": null,
            "object_fit": null,
            "object_position": null,
            "order": null,
            "overflow": null,
            "overflow_x": null,
            "overflow_y": null,
            "padding": null,
            "right": null,
            "top": null,
            "visibility": null,
            "width": null
          }
        },
        "0293996d49d548639e75e1c76705993e": {
          "model_module": "@jupyter-widgets/controls",
          "model_name": "ProgressStyleModel",
          "model_module_version": "1.5.0",
          "state": {
            "_model_module": "@jupyter-widgets/controls",
            "_model_module_version": "1.5.0",
            "_model_name": "ProgressStyleModel",
            "_view_count": null,
            "_view_module": "@jupyter-widgets/base",
            "_view_module_version": "1.2.0",
            "_view_name": "StyleView",
            "bar_color": null,
            "description_width": ""
          }
        },
        "8ec5f8d0693244aabd493dc964ae538d": {
          "model_module": "@jupyter-widgets/base",
          "model_name": "LayoutModel",
          "model_module_version": "1.2.0",
          "state": {
            "_model_module": "@jupyter-widgets/base",
            "_model_module_version": "1.2.0",
            "_model_name": "LayoutModel",
            "_view_count": null,
            "_view_module": "@jupyter-widgets/base",
            "_view_module_version": "1.2.0",
            "_view_name": "LayoutView",
            "align_content": null,
            "align_items": null,
            "align_self": null,
            "border": null,
            "bottom": null,
            "display": null,
            "flex": null,
            "flex_flow": null,
            "grid_area": null,
            "grid_auto_columns": null,
            "grid_auto_flow": null,
            "grid_auto_rows": null,
            "grid_column": null,
            "grid_gap": null,
            "grid_row": null,
            "grid_template_areas": null,
            "grid_template_columns": null,
            "grid_template_rows": null,
            "height": null,
            "justify_content": null,
            "justify_items": null,
            "left": null,
            "margin": null,
            "max_height": null,
            "max_width": null,
            "min_height": null,
            "min_width": null,
            "object_fit": null,
            "object_position": null,
            "order": null,
            "overflow": null,
            "overflow_x": null,
            "overflow_y": null,
            "padding": null,
            "right": null,
            "top": null,
            "visibility": null,
            "width": null
          }
        },
        "a94d9c91a04f41f784db78e651254bc6": {
          "model_module": "@jupyter-widgets/controls",
          "model_name": "DescriptionStyleModel",
          "model_module_version": "1.5.0",
          "state": {
            "_model_module": "@jupyter-widgets/controls",
            "_model_module_version": "1.5.0",
            "_model_name": "DescriptionStyleModel",
            "_view_count": null,
            "_view_module": "@jupyter-widgets/base",
            "_view_module_version": "1.2.0",
            "_view_name": "StyleView",
            "description_width": ""
          }
        }
      }
    }
  },
  "nbformat": 4,
  "nbformat_minor": 0
}