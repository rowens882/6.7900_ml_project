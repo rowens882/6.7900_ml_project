{
  "cells": [
    {
      "cell_type": "markdown",
      "metadata": {
        "id": "I6pNxpJP_EGE"
      },
      "source": [
        "# Train a sentiment model"
      ]
    },
    {
      "cell_type": "markdown",
      "metadata": {
        "id": "skfV4wdtu5cW"
      },
      "source": [
        "## Get data"
      ]
    },
    {
      "cell_type": "code",
      "execution_count": 40,
      "metadata": {
        "colab": {
          "base_uri": "https://localhost:8080/"
        },
        "id": "fy7AUboA_Hht",
        "outputId": "be000db7-edbc-4849-8661-cc70478c61ce"
      },
      "outputs": [
        {
          "output_type": "stream",
          "name": "stdout",
          "text": [
            "Drive already mounted at /content/drive; to attempt to forcibly remount, call drive.mount(\"/content/drive\", force_remount=True).\n"
          ]
        }
      ],
      "source": [
        "from google.colab import drive\n",
        "drive.mount(\"/content/drive\")"
      ]
    },
    {
      "cell_type": "code",
      "execution_count": 41,
      "metadata": {
        "colab": {
          "base_uri": "https://localhost:8080/"
        },
        "id": "-fz94Hrn_N_G",
        "outputId": "ec928f58-3d70-4119-9944-71d3cdb75049"
      },
      "outputs": [
        {
          "output_type": "stream",
          "name": "stdout",
          "text": [
            "On my way 2 work. Raining here in k.c guess my k.c twiggs know that. Lol 8 days till I'm 30 wtf!\n",
            "0\n",
            "Almost done with Rant. Beautiful book. You guys should read it\n",
            "1\n",
            "Goodnight, can't wait for school in the morning!\n",
            "1\n",
            "@Mileycyrus i love jesus too and im getting ready for school (&lt;3)\n",
            "1\n",
            "@ben_mayer at least you get tan lines. i usually just burn\n",
            "0\n",
            "@Carm823 sure if you wanna drop them off at georgia sure\n",
            "1\n",
            "I'm getting ready to start another day of conference calls... woo hooo\n",
            "1\n",
            "@mnowluck idiot I am not @kima. I am @Mizohican Im in Mumbai only, where the heck are you?\n",
            "1\n",
            "@tasaljayyousi i have a test the second we get back btw, did you get tweetdeck?\n",
            "0\n",
            "@phillyan man ur picture is so small on my phone... I can't tell fropm that...give me a hint\n",
            "1\n"
          ]
        }
      ],
      "source": [
        "import pandas as pd\n",
        "import numpy as np\n",
        "import csv\n",
        "import warnings; warnings.filterwarnings(\"ignore\")\n",
        "\n",
        "np.random.seed(618)\n",
        "\n",
        "file_path = \"drive/MyDrive/Academics/MIT 6.7900/\"\n",
        "\n",
        "def whiteSpaceFix(sent: str) -> str:\n",
        "    return \" \".join(sent.split())\n",
        "\n",
        "def getData(file_path: str, size: int):\n",
        "    '''\n",
        "    size: len(pos) == len(neg)\n",
        "    return: list of str (pos, neg)\n",
        "    '''\n",
        "\n",
        "    tweets = []\n",
        "\n",
        "    with open(file_path, 'r', encoding='latin-1') as f:\n",
        "        reader = csv.reader(f)\n",
        "        size_pos, size_neg = 0, 0\n",
        "        \n",
        "        for row in reader:\n",
        "            if ((size_pos == size) and (size_neg == size)):\n",
        "                return tweets\n",
        "            \n",
        "            if (row[0] == \"2\"):\n",
        "                continue\n",
        "            \n",
        "            elif (row[0] == \"0\"):\n",
        "                if (size_neg < size):\n",
        "                    tweets.append((whiteSpaceFix(row[-1]), 0))\n",
        "                    size_neg += 1\n",
        "                else:\n",
        "                    continue\n",
        "            \n",
        "            elif (row[0] == \"4\"):\n",
        "                if (size_pos < size):\n",
        "                    tweets.append((whiteSpaceFix(row[-1]), 1))\n",
        "                    size_pos += 1\n",
        "                else:\n",
        "                    continue\n",
        "\n",
        "def trainTestSplit(data, train_size = 0.8, val_size = 0.9, shuffle = True):\n",
        "    '''\n",
        "    data: a list of tuples\n",
        "    train_size: proportion of data in training set\n",
        "    val_size: validation proportion\n",
        "    shuffle: if shuffled\n",
        "    return: train, val, test data\n",
        "    '''\n",
        "    assert(val_size > train_size)\n",
        "\n",
        "    if shuffle:\n",
        "        np.random.shuffle(data)\n",
        "    \n",
        "    sent, label = zip(*data)\n",
        "    train_sent, train_label = sent[:int(len(data) * train_size)], label[:int(len(data) * train_size)]\n",
        "    val_sent, val_label = sent[int(len(data) * train_size):int(len(data) * val_size)], \\\n",
        "                          label[int(len(data) * train_size):int(len(data) * val_size)]\n",
        "    test_sent, test_label = sent[int(len(data) * val_size):], \\\n",
        "                            label[int(len(data) * val_size):]\n",
        "\n",
        "    return train_sent, train_label, val_sent, val_label, test_sent, test_label\n",
        "\n",
        "# read data\n",
        "tweets = getData(file_path + \"twitter_labelled.csv\", 20000)\n",
        "\n",
        "# get train and test set\n",
        "train_sent, train_label, val_sent, val_label, test_sent, test_label = trainTestSplit(tweets)\n",
        "\n",
        "# print some examples\n",
        "for i, sent in enumerate(train_sent):\n",
        "    if i >= 10: break\n",
        "    print(f\"{sent}\\n{train_label[i]}\")"
      ]
    },
    {
      "cell_type": "markdown",
      "metadata": {
        "id": "YyrKZjtkuyGy"
      },
      "source": [
        "## Word embedding"
      ]
    },
    {
      "cell_type": "code",
      "execution_count": 42,
      "metadata": {
        "colab": {
          "base_uri": "https://localhost:8080/"
        },
        "id": "dWndeJTWu2it",
        "outputId": "6785097c-0376-4342-d90b-a333556dd232"
      },
      "outputs": [
        {
          "output_type": "stream",
          "name": "stdout",
          "text": [
            "Looking in indexes: https://pypi.org/simple, https://us-python.pkg.dev/colab-wheels/public/simple/\n",
            "Collecting transformers\n",
            "  Downloading transformers-4.24.0-py3-none-any.whl (5.5 MB)\n",
            "\u001b[K     |████████████████████████████████| 5.5 MB 7.1 MB/s \n",
            "\u001b[?25hRequirement already satisfied: tqdm>=4.27 in /usr/local/lib/python3.7/dist-packages (from transformers) (4.64.1)\n",
            "Requirement already satisfied: filelock in /usr/local/lib/python3.7/dist-packages (from transformers) (3.8.0)\n",
            "Requirement already satisfied: regex!=2019.12.17 in /usr/local/lib/python3.7/dist-packages (from transformers) (2022.6.2)\n",
            "Requirement already satisfied: requests in /usr/local/lib/python3.7/dist-packages (from transformers) (2.23.0)\n",
            "Collecting huggingface-hub<1.0,>=0.10.0\n",
            "  Downloading huggingface_hub-0.11.1-py3-none-any.whl (182 kB)\n",
            "\u001b[K     |████████████████████████████████| 182 kB 68.4 MB/s \n",
            "\u001b[?25hCollecting tokenizers!=0.11.3,<0.14,>=0.11.1\n",
            "  Downloading tokenizers-0.13.2-cp37-cp37m-manylinux_2_17_x86_64.manylinux2014_x86_64.whl (7.6 MB)\n",
            "\u001b[K     |████████████████████████████████| 7.6 MB 50.4 MB/s \n",
            "\u001b[?25hRequirement already satisfied: importlib-metadata in /usr/local/lib/python3.7/dist-packages (from transformers) (4.13.0)\n",
            "Requirement already satisfied: pyyaml>=5.1 in /usr/local/lib/python3.7/dist-packages (from transformers) (6.0)\n",
            "Requirement already satisfied: packaging>=20.0 in /usr/local/lib/python3.7/dist-packages (from transformers) (21.3)\n",
            "Requirement already satisfied: numpy>=1.17 in /usr/local/lib/python3.7/dist-packages (from transformers) (1.21.6)\n",
            "Requirement already satisfied: typing-extensions>=3.7.4.3 in /usr/local/lib/python3.7/dist-packages (from huggingface-hub<1.0,>=0.10.0->transformers) (4.1.1)\n",
            "Requirement already satisfied: pyparsing!=3.0.5,>=2.0.2 in /usr/local/lib/python3.7/dist-packages (from packaging>=20.0->transformers) (3.0.9)\n",
            "Requirement already satisfied: zipp>=0.5 in /usr/local/lib/python3.7/dist-packages (from importlib-metadata->transformers) (3.10.0)\n",
            "Requirement already satisfied: urllib3!=1.25.0,!=1.25.1,<1.26,>=1.21.1 in /usr/local/lib/python3.7/dist-packages (from requests->transformers) (1.24.3)\n",
            "Requirement already satisfied: idna<3,>=2.5 in /usr/local/lib/python3.7/dist-packages (from requests->transformers) (2.10)\n",
            "Requirement already satisfied: chardet<4,>=3.0.2 in /usr/local/lib/python3.7/dist-packages (from requests->transformers) (3.0.4)\n",
            "Requirement already satisfied: certifi>=2017.4.17 in /usr/local/lib/python3.7/dist-packages (from requests->transformers) (2022.9.24)\n",
            "Installing collected packages: tokenizers, huggingface-hub, transformers\n",
            "Successfully installed huggingface-hub-0.11.1 tokenizers-0.13.2 transformers-4.24.0\n"
          ]
        }
      ],
      "source": [
        "!pip install transformers"
      ]
    },
    {
      "cell_type": "code",
      "execution_count": 43,
      "metadata": {
        "id": "lXxTw0CnvBLl",
        "colab": {
          "base_uri": "https://localhost:8080/",
          "height": 113,
          "referenced_widgets": [
            "94da220a42ee4989a2229ef367e2702f",
            "716bebaf1d0c425b99ab8de03b6855ca",
            "2dc92bb62869448881f9611c495dc993",
            "17efc9187ba94106ab3832bbc813bcee",
            "af545ab8923a465b8178d9aa2a8d14df",
            "e024b0a8471842ae86defa7a09c94ee2",
            "be4c8345008c43e786634b0ed0f298eb",
            "8385cd6ff6104ffcbc42ea35ccb8eac3",
            "aa6f55dedc1b4b669728de977c5697dd",
            "ea9b4d52c4f64191b4ab461e96192b4d",
            "6187c9bab6054a859a4d6e1778b9313d",
            "955bc6e049194e6e9d4698bb53152d79",
            "254bb1ff57734f598bf7d713d683a696",
            "66326b08a7a94f369288b49df86c6017",
            "9eb488cb291142b68df75bd9f499521c",
            "11e2d3504a65421485a65276d4abd248",
            "76fbfbe15b4241ec9338632b064ffb5c",
            "e6bf6a9cf42f4d178c01c9c0ad4a3b2d",
            "ae91a3a1a0944aba89600a24bbead1bd",
            "45cdf6aa84ea491791f88cc1f06371a5",
            "fcfe5db88bfb40fdad0b4263587b2e25",
            "e41c6d69c80f49f0876c529f62029e9a",
            "fd07e463be4e436a9a7fbfdf794d7ea1",
            "b98ae2c6797f4783a21b85e2adba1821",
            "f9a9ea7145f844aab5829eaffefbe5b1",
            "d5bbd458aa16407fb0da2fa34dc6f4d0",
            "94e69cc385b04c448a36e0ca8fa9e9c2",
            "df1dfd7956704e9fb8bf308fd3237220",
            "e03b316ee7ec4578870938344f65a2bd",
            "77e8a722053741d696697d636f271cf1",
            "81c841f99aa44f7aadcc0234cbe9096a",
            "20097b2681634e92a2ed02eec8976be9",
            "3e9544cd07614ccba123fd45d215e35d"
          ]
        },
        "outputId": "898b778f-b272-4f16-c6e3-787d38518bd2"
      },
      "outputs": [
        {
          "output_type": "display_data",
          "data": {
            "text/plain": [
              "Downloading:   0%|          | 0.00/213k [00:00<?, ?B/s]"
            ],
            "application/vnd.jupyter.widget-view+json": {
              "version_major": 2,
              "version_minor": 0,
              "model_id": "94da220a42ee4989a2229ef367e2702f"
            }
          },
          "metadata": {}
        },
        {
          "output_type": "display_data",
          "data": {
            "text/plain": [
              "Downloading:   0%|          | 0.00/29.0 [00:00<?, ?B/s]"
            ],
            "application/vnd.jupyter.widget-view+json": {
              "version_major": 2,
              "version_minor": 0,
              "model_id": "955bc6e049194e6e9d4698bb53152d79"
            }
          },
          "metadata": {}
        },
        {
          "output_type": "display_data",
          "data": {
            "text/plain": [
              "Downloading:   0%|          | 0.00/411 [00:00<?, ?B/s]"
            ],
            "application/vnd.jupyter.widget-view+json": {
              "version_major": 2,
              "version_minor": 0,
              "model_id": "fd07e463be4e436a9a7fbfdf794d7ea1"
            }
          },
          "metadata": {}
        }
      ],
      "source": [
        "from transformers import DistilBertTokenizer\n",
        "tokenizer = DistilBertTokenizer.from_pretrained(\"distilbert-base-cased\")"
      ]
    },
    {
      "cell_type": "code",
      "execution_count": 44,
      "metadata": {
        "id": "Hqh-L99eqQTl"
      },
      "outputs": [],
      "source": [
        "import torch\n",
        "\n",
        "def tokenizer_function(data):\n",
        "    '''\n",
        "    data: list of str\n",
        "    return: list of list of int\n",
        "    '''\n",
        "\n",
        "    tokenized_data = []\n",
        "\n",
        "    for i, sent in enumerate(data):\n",
        "        this_encoding = tokenizer.encode_plus(sent, truncation = True, pad_to_max_length = True,\n",
        "                                              max_length = 64, return_attention_mask = True,\n",
        "                                              return_tensors = 'pt')\n",
        "        tokenized_data.append(this_encoding[\"input_ids\"])\n",
        "    \n",
        "    tokenized_data = torch.cat(tokenized_data, dim = 0)\n",
        "\n",
        "    return tokenized_data.numpy()\n",
        "\n",
        "# tokenize train and test data\n",
        "train_sent_tk = tokenizer_function(train_sent)\n",
        "val_sent_tk = tokenizer_function(val_sent)\n",
        "test_sent_tk = tokenizer_function(test_sent)"
      ]
    },
    {
      "cell_type": "markdown",
      "metadata": {
        "id": "fCVVUB5Lwh9_"
      },
      "source": [
        "## Train a simple logistic regression"
      ]
    },
    {
      "cell_type": "code",
      "execution_count": 45,
      "metadata": {
        "colab": {
          "base_uri": "https://localhost:8080/"
        },
        "id": "jd-ldAV0wjjX",
        "outputId": "6ba749a4-0323-4870-a49b-600b93c372ad"
      },
      "outputs": [
        {
          "output_type": "stream",
          "name": "stdout",
          "text": [
            "train score is 0.57, test score is 0.56\n"
          ]
        }
      ],
      "source": [
        "from sklearn.linear_model import LogisticRegression\n",
        "\n",
        "def logisticRegression(train_X, train_y, test_X, test_y):\n",
        "    '''\n",
        "    standard logistic regression\n",
        "    return: model, train score, test score\n",
        "    '''\n",
        "    # solver and penalty do not make much difference on results!\n",
        "    model = LogisticRegression(penalty = \"l1\", solver = \"saga\").fit(train_X, train_y)\n",
        "\n",
        "    return model, model.score(train_X, train_y), model.score(test_X, test_y)\n",
        "\n",
        "# train data\n",
        "model, train_score, test_score = logisticRegression(train_sent_tk,\n",
        "                                                    train_label,\n",
        "                                                    test_sent_tk,\n",
        "                                                    test_label)\n",
        "\n",
        "# only slightly better than random guessing!\n",
        "print(f\"train score is {round(train_score, 2)}, test score is {round(test_score, 2)}\")"
      ]
    },
    {
      "cell_type": "markdown",
      "metadata": {
        "id": "GFMpgmWI3Z88"
      },
      "source": [
        "## Leverage DistilBertForSequenceClassification"
      ]
    },
    {
      "cell_type": "code",
      "execution_count": 46,
      "metadata": {
        "id": "QnpUhwrU4DXo"
      },
      "outputs": [],
      "source": [
        "from transformers import DistilBertForSequenceClassification, AdamW\n",
        "from torch.utils.data import DataLoader, TensorDataset\n",
        "import torch.nn.functional as F\n",
        "device = torch.device('cuda') if torch.cuda.is_available() else torch.device('cpu')"
      ]
    },
    {
      "cell_type": "code",
      "execution_count": 47,
      "metadata": {
        "id": "pq8NVDJ3y7V3"
      },
      "outputs": [],
      "source": [
        "# prepare data\n",
        "def prepareData(sent, label):\n",
        "    return TensorDataset(torch.tensor(sent), torch.tensor(label))\n",
        "\n",
        "train_data = prepareData(train_sent_tk, train_label)\n",
        "val_data = prepareData(val_sent_tk, val_label)\n",
        "test_data = prepareData(test_sent_tk, test_label)\n",
        "\n",
        "train_dataloader = DataLoader(train_data, batch_size = 16, shuffle = True, drop_last = True)\n",
        "val_dataloader = DataLoader(val_data, batch_size = 16, shuffle = True, drop_last = True)\n",
        "test_dataloader = DataLoader(test_data, batch_size = 16, shuffle = True, drop_last = True)"
      ]
    },
    {
      "cell_type": "code",
      "execution_count": 121,
      "metadata": {
        "id": "U9exlKs19AdW"
      },
      "outputs": [],
      "source": [
        "def train_loop(dataloader, model, optimizer, print_size = 10):\n",
        "    '''\n",
        "\n",
        "    '''\n",
        "    train_loss = []\n",
        "    model.train()\n",
        "\n",
        "    for i, (sent, label) in enumerate(dataloader):\n",
        "        sent = sent.to(device)\n",
        "        label = label.to(device)\n",
        "\n",
        "        model.zero_grad()\n",
        "\n",
        "        pred = model(input_ids = sent, labels = label)\n",
        "        loss = pred.loss\n",
        "        train_loss.append(loss.item())\n",
        "\n",
        "        optimizer.zero_grad()\n",
        "        loss.backward()\n",
        "        torch.nn.utils.clip_grad_norm_(model.parameters(), 1.0)\n",
        "        optimizer.step()\n",
        "\n",
        "        if (i % print_size == 0):\n",
        "            print(f\"loss = {round(loss.item(), 3)}\")\n",
        "    \n",
        "    return train_loss\n",
        "\n",
        "def val_loop(dataloader, model):\n",
        "    '''\n",
        "\n",
        "    '''\n",
        "    val_loss, val_acc, size = 0, 0, len(dataloader.dataset)\n",
        "\n",
        "    model.eval() # put model to evaluation mode\n",
        "\n",
        "    for i, (sent, label) in enumerate(dataloader):\n",
        "        sent = sent.to(device)\n",
        "        label = label.to(device)\n",
        "        with torch.no_grad():\n",
        "            pred = model(sent, labels = label)\n",
        "        \n",
        "        loss, logits = pred.loss, pred.logits\n",
        "        val_loss += loss.item()\n",
        "        val_acc += sum(logits.argmax(dim = 1) == label).item()\n",
        "    \n",
        "    return val_loss / len(dataloader), val_acc / size"
      ]
    },
    {
      "cell_type": "code",
      "execution_count": 122,
      "metadata": {
        "colab": {
          "base_uri": "https://localhost:8080/"
        },
        "id": "jvXqNWK0EqOs",
        "outputId": "58eed698-9528-4ec4-fc6e-18dbd11ad4bf"
      },
      "outputs": [
        {
          "output_type": "stream",
          "name": "stderr",
          "text": [
            "Some weights of the model checkpoint at distilbert-base-cased were not used when initializing DistilBertForSequenceClassification: ['vocab_layer_norm.weight', 'vocab_transform.weight', 'vocab_projector.bias', 'vocab_transform.bias', 'vocab_layer_norm.bias', 'vocab_projector.weight']\n",
            "- This IS expected if you are initializing DistilBertForSequenceClassification from the checkpoint of a model trained on another task or with another architecture (e.g. initializing a BertForSequenceClassification model from a BertForPreTraining model).\n",
            "- This IS NOT expected if you are initializing DistilBertForSequenceClassification from the checkpoint of a model that you expect to be exactly identical (initializing a BertForSequenceClassification model from a BertForSequenceClassification model).\n",
            "Some weights of DistilBertForSequenceClassification were not initialized from the model checkpoint at distilbert-base-cased and are newly initialized: ['classifier.weight', 'pre_classifier.weight', 'classifier.bias', 'pre_classifier.bias']\n",
            "You should probably TRAIN this model on a down-stream task to be able to use it for predictions and inference.\n",
            "  0%|          | 0/3 [00:00<?, ?it/s]"
          ]
        },
        {
          "output_type": "stream",
          "name": "stdout",
          "text": [
            "training epoch 1\n",
            "loss = 0.685\n",
            "loss = 0.691\n",
            "loss = 0.434\n",
            "loss = 0.654\n",
            "loss = 0.614\n",
            "loss = 0.423\n",
            "loss = 0.318\n",
            "loss = 0.454\n",
            "loss = 0.377\n",
            "loss = 0.523\n",
            "loss = 0.533\n",
            "loss = 0.515\n",
            "loss = 0.448\n",
            "loss = 0.351\n",
            "loss = 0.401\n",
            "loss = 0.257\n",
            "loss = 0.53\n",
            "loss = 0.506\n",
            "loss = 0.526\n",
            "loss = 0.43\n",
            "running validation 1\n"
          ]
        },
        {
          "output_type": "stream",
          "name": "stderr",
          "text": [
            "\r 33%|███▎      | 1/3 [03:33<07:06, 213.01s/it]"
          ]
        },
        {
          "output_type": "stream",
          "name": "stdout",
          "text": [
            "validation loss = 0.412\n",
            "training epoch 2\n",
            "loss = 0.156\n",
            "loss = 0.321\n",
            "loss = 0.244\n",
            "loss = 0.234\n",
            "loss = 0.226\n",
            "loss = 0.31\n",
            "loss = 0.408\n",
            "loss = 0.148\n",
            "loss = 0.486\n",
            "loss = 0.12\n",
            "loss = 0.359\n",
            "loss = 0.688\n",
            "loss = 0.253\n",
            "loss = 0.261\n",
            "loss = 0.179\n",
            "loss = 0.361\n",
            "loss = 0.29\n",
            "loss = 0.488\n",
            "loss = 0.266\n",
            "loss = 0.348\n",
            "running validation 2\n"
          ]
        },
        {
          "output_type": "stream",
          "name": "stderr",
          "text": [
            "\r 67%|██████▋   | 2/3 [07:18<03:40, 220.40s/it]"
          ]
        },
        {
          "output_type": "stream",
          "name": "stdout",
          "text": [
            "validation loss = 0.425\n",
            "training epoch 3\n",
            "loss = 0.203\n",
            "loss = 0.012\n",
            "loss = 0.106\n",
            "loss = 0.111\n",
            "loss = 0.038\n",
            "loss = 0.416\n",
            "loss = 0.015\n",
            "loss = 0.355\n",
            "loss = 0.232\n",
            "loss = 0.097\n",
            "loss = 0.189\n",
            "loss = 0.031\n",
            "loss = 0.326\n",
            "loss = 0.204\n",
            "loss = 0.141\n",
            "loss = 0.163\n",
            "loss = 0.409\n",
            "loss = 0.419\n",
            "loss = 0.036\n",
            "loss = 0.203\n",
            "running validation 3\n"
          ]
        },
        {
          "output_type": "stream",
          "name": "stderr",
          "text": [
            "100%|██████████| 3/3 [11:06<00:00, 222.14s/it]"
          ]
        },
        {
          "output_type": "stream",
          "name": "stdout",
          "text": [
            "validation loss = 0.506\n",
            "Done!\n"
          ]
        },
        {
          "output_type": "stream",
          "name": "stderr",
          "text": [
            "\n"
          ]
        }
      ],
      "source": [
        "from torch import optim\n",
        "from transformers import DistilBertForSequenceClassification, AdamW\n",
        "from tqdm import tqdm\n",
        "torch.manual_seed(618)\n",
        "\n",
        "lr = 2e-5\n",
        "epochs = 3\n",
        "eps = 1e-8\n",
        "\n",
        "model = DistilBertForSequenceClassification.from_pretrained('distilbert-base-cased', \n",
        "                                                            num_labels=2, output_attentions = False, \n",
        "                                                            output_hidden_states=False)\n",
        "model.to(device)\n",
        "optimizer = AdamW(model.parameters(), lr = lr, eps = eps)\n",
        "\n",
        "train_loss_arr, val_loss_arr, val_acc_arr = [], [], []\n",
        "for epoch in tqdm(range(epochs)):\n",
        "    print(f\"training epoch {epoch+1}\")\n",
        "    train_loss = train_loop(train_dataloader, model, optimizer, 100)\n",
        "    print(f\"running validation {epoch+1}\")\n",
        "    val_loss, val_acc = val_loop(val_dataloader, model)\n",
        "    val_loss_arr.append(val_loss)\n",
        "    val_acc_arr.append(val_acc)\n",
        "    print(f\"validation loss = {round(val_loss, 3)}\")\n",
        "    train_loss_arr.extend(train_loss)\n",
        "print(\"Done!\")"
      ]
    },
    {
      "cell_type": "code",
      "execution_count": 123,
      "metadata": {
        "colab": {
          "base_uri": "https://localhost:8080/"
        },
        "id": "7qdbKypqVSmN",
        "outputId": "0e1e8d6c-2131-4e78-db98-332e759f6b96"
      },
      "outputs": [
        {
          "output_type": "stream",
          "name": "stdout",
          "text": [
            "test accuracy is 0.81\n"
          ]
        }
      ],
      "source": [
        "# test\n",
        "\n",
        "def test_loop(dataloader, model):\n",
        "    '''\n",
        "\n",
        "    '''\n",
        "    test_loss, test_acc, size = 0, 0, len(dataloader.dataset)\n",
        "    total_pred = []\n",
        "\n",
        "    model.eval() # put model to evaluation mode\n",
        "\n",
        "    for i, (sent, label) in enumerate(dataloader):\n",
        "        sent = sent.to(device)\n",
        "        label = label.to(device)\n",
        "        with torch.no_grad():\n",
        "            pred = model(sent, labels = label)\n",
        "        \n",
        "        loss, logits = pred.loss, pred.logits\n",
        "        test_loss += loss.item()\n",
        "        test_acc += sum(logits.argmax(dim = 1) == label).item()\n",
        "        total_pred.extend(logits.detach().cpu().numpy())\n",
        "    \n",
        "    return test_loss / len(dataloader), test_acc / size, total_pred\n",
        "\n",
        "test_loss, test_acc, test_pred = test_loop(test_dataloader, model)\n",
        "\n",
        "print(f\"test accuracy is {round(test_acc, 3)}\")"
      ]
    },
    {
      "cell_type": "markdown",
      "metadata": {
        "id": "GvencAgnW0-a"
      },
      "source": [
        "# Apply model on our data"
      ]
    },
    {
      "cell_type": "markdown",
      "metadata": {
        "id": "f-UZ_2JiW9Sr"
      },
      "source": [
        "## Load data"
      ]
    },
    {
      "cell_type": "code",
      "execution_count": 51,
      "metadata": {
        "colab": {
          "base_uri": "https://localhost:8080/",
          "height": 354
        },
        "id": "Kf9hLRgxW-r9",
        "outputId": "9106b942-1728-4b5b-fb6f-fe40e1487142"
      },
      "outputs": [
        {
          "output_type": "execute_result",
          "data": {
            "text/plain": [
              "    Case Number  Votes for Labor Union1  Votes Against  \\\n",
              "0  01-RC-090869                    74.0           45.0   \n",
              "1  10-RC-090329                   106.0           83.0   \n",
              "2  18-RC-090794                    36.0           78.0   \n",
              "3  29-RD-091658                   114.0          107.0   \n",
              "4  09-RC-090819                    28.0           62.0   \n",
              "\n",
              "                                      Tweets - Union Tweets - Labor Org  \\\n",
              "0  ['@notch Preprocess all the meshes into a unio...                  0   \n",
              "1  [\"I'm at eCO Credit Union (Alabaster, AL) 4sq....                  0   \n",
              "2                                                  0                  0   \n",
              "3  [\"I'm at Grand Union Hotel (New York, NY) 4sq....                  0   \n",
              "4  ['@t_marsh83 @frontmantrue @fredthompson agree...                  0   \n",
              "\n",
              "                                  Tweets - Case Name  Score_Union  \\\n",
              "0  ['Volunteers, food needed for Thanksgiving - b...          NaN   \n",
              "1                                                  0          NaN   \n",
              "2                                                  0          NaN   \n",
              "3                                                  0          NaN   \n",
              "4                                                  0          NaN   \n",
              "\n",
              "   Score_LabOrg  Score_Name  \n",
              "0           NaN         NaN  \n",
              "1           NaN         NaN  \n",
              "2           NaN         NaN  \n",
              "3           NaN         NaN  \n",
              "4           NaN         NaN  "
            ],
            "text/html": [
              "\n",
              "  <div id=\"df-d4151c32-49d3-4a44-bf9d-eceb34f30081\">\n",
              "    <div class=\"colab-df-container\">\n",
              "      <div>\n",
              "<style scoped>\n",
              "    .dataframe tbody tr th:only-of-type {\n",
              "        vertical-align: middle;\n",
              "    }\n",
              "\n",
              "    .dataframe tbody tr th {\n",
              "        vertical-align: top;\n",
              "    }\n",
              "\n",
              "    .dataframe thead th {\n",
              "        text-align: right;\n",
              "    }\n",
              "</style>\n",
              "<table border=\"1\" class=\"dataframe\">\n",
              "  <thead>\n",
              "    <tr style=\"text-align: right;\">\n",
              "      <th></th>\n",
              "      <th>Case Number</th>\n",
              "      <th>Votes for Labor Union1</th>\n",
              "      <th>Votes Against</th>\n",
              "      <th>Tweets - Union</th>\n",
              "      <th>Tweets - Labor Org</th>\n",
              "      <th>Tweets - Case Name</th>\n",
              "      <th>Score_Union</th>\n",
              "      <th>Score_LabOrg</th>\n",
              "      <th>Score_Name</th>\n",
              "    </tr>\n",
              "  </thead>\n",
              "  <tbody>\n",
              "    <tr>\n",
              "      <th>0</th>\n",
              "      <td>01-RC-090869</td>\n",
              "      <td>74.0</td>\n",
              "      <td>45.0</td>\n",
              "      <td>['@notch Preprocess all the meshes into a unio...</td>\n",
              "      <td>0</td>\n",
              "      <td>['Volunteers, food needed for Thanksgiving - b...</td>\n",
              "      <td>NaN</td>\n",
              "      <td>NaN</td>\n",
              "      <td>NaN</td>\n",
              "    </tr>\n",
              "    <tr>\n",
              "      <th>1</th>\n",
              "      <td>10-RC-090329</td>\n",
              "      <td>106.0</td>\n",
              "      <td>83.0</td>\n",
              "      <td>[\"I'm at eCO Credit Union (Alabaster, AL) 4sq....</td>\n",
              "      <td>0</td>\n",
              "      <td>0</td>\n",
              "      <td>NaN</td>\n",
              "      <td>NaN</td>\n",
              "      <td>NaN</td>\n",
              "    </tr>\n",
              "    <tr>\n",
              "      <th>2</th>\n",
              "      <td>18-RC-090794</td>\n",
              "      <td>36.0</td>\n",
              "      <td>78.0</td>\n",
              "      <td>0</td>\n",
              "      <td>0</td>\n",
              "      <td>0</td>\n",
              "      <td>NaN</td>\n",
              "      <td>NaN</td>\n",
              "      <td>NaN</td>\n",
              "    </tr>\n",
              "    <tr>\n",
              "      <th>3</th>\n",
              "      <td>29-RD-091658</td>\n",
              "      <td>114.0</td>\n",
              "      <td>107.0</td>\n",
              "      <td>[\"I'm at Grand Union Hotel (New York, NY) 4sq....</td>\n",
              "      <td>0</td>\n",
              "      <td>0</td>\n",
              "      <td>NaN</td>\n",
              "      <td>NaN</td>\n",
              "      <td>NaN</td>\n",
              "    </tr>\n",
              "    <tr>\n",
              "      <th>4</th>\n",
              "      <td>09-RC-090819</td>\n",
              "      <td>28.0</td>\n",
              "      <td>62.0</td>\n",
              "      <td>['@t_marsh83 @frontmantrue @fredthompson agree...</td>\n",
              "      <td>0</td>\n",
              "      <td>0</td>\n",
              "      <td>NaN</td>\n",
              "      <td>NaN</td>\n",
              "      <td>NaN</td>\n",
              "    </tr>\n",
              "  </tbody>\n",
              "</table>\n",
              "</div>\n",
              "      <button class=\"colab-df-convert\" onclick=\"convertToInteractive('df-d4151c32-49d3-4a44-bf9d-eceb34f30081')\"\n",
              "              title=\"Convert this dataframe to an interactive table.\"\n",
              "              style=\"display:none;\">\n",
              "        \n",
              "  <svg xmlns=\"http://www.w3.org/2000/svg\" height=\"24px\"viewBox=\"0 0 24 24\"\n",
              "       width=\"24px\">\n",
              "    <path d=\"M0 0h24v24H0V0z\" fill=\"none\"/>\n",
              "    <path d=\"M18.56 5.44l.94 2.06.94-2.06 2.06-.94-2.06-.94-.94-2.06-.94 2.06-2.06.94zm-11 1L8.5 8.5l.94-2.06 2.06-.94-2.06-.94L8.5 2.5l-.94 2.06-2.06.94zm10 10l.94 2.06.94-2.06 2.06-.94-2.06-.94-.94-2.06-.94 2.06-2.06.94z\"/><path d=\"M17.41 7.96l-1.37-1.37c-.4-.4-.92-.59-1.43-.59-.52 0-1.04.2-1.43.59L10.3 9.45l-7.72 7.72c-.78.78-.78 2.05 0 2.83L4 21.41c.39.39.9.59 1.41.59.51 0 1.02-.2 1.41-.59l7.78-7.78 2.81-2.81c.8-.78.8-2.07 0-2.86zM5.41 20L4 18.59l7.72-7.72 1.47 1.35L5.41 20z\"/>\n",
              "  </svg>\n",
              "      </button>\n",
              "      \n",
              "  <style>\n",
              "    .colab-df-container {\n",
              "      display:flex;\n",
              "      flex-wrap:wrap;\n",
              "      gap: 12px;\n",
              "    }\n",
              "\n",
              "    .colab-df-convert {\n",
              "      background-color: #E8F0FE;\n",
              "      border: none;\n",
              "      border-radius: 50%;\n",
              "      cursor: pointer;\n",
              "      display: none;\n",
              "      fill: #1967D2;\n",
              "      height: 32px;\n",
              "      padding: 0 0 0 0;\n",
              "      width: 32px;\n",
              "    }\n",
              "\n",
              "    .colab-df-convert:hover {\n",
              "      background-color: #E2EBFA;\n",
              "      box-shadow: 0px 1px 2px rgba(60, 64, 67, 0.3), 0px 1px 3px 1px rgba(60, 64, 67, 0.15);\n",
              "      fill: #174EA6;\n",
              "    }\n",
              "\n",
              "    [theme=dark] .colab-df-convert {\n",
              "      background-color: #3B4455;\n",
              "      fill: #D2E3FC;\n",
              "    }\n",
              "\n",
              "    [theme=dark] .colab-df-convert:hover {\n",
              "      background-color: #434B5C;\n",
              "      box-shadow: 0px 1px 3px 1px rgba(0, 0, 0, 0.15);\n",
              "      filter: drop-shadow(0px 1px 2px rgba(0, 0, 0, 0.3));\n",
              "      fill: #FFFFFF;\n",
              "    }\n",
              "  </style>\n",
              "\n",
              "      <script>\n",
              "        const buttonEl =\n",
              "          document.querySelector('#df-d4151c32-49d3-4a44-bf9d-eceb34f30081 button.colab-df-convert');\n",
              "        buttonEl.style.display =\n",
              "          google.colab.kernel.accessAllowed ? 'block' : 'none';\n",
              "\n",
              "        async function convertToInteractive(key) {\n",
              "          const element = document.querySelector('#df-d4151c32-49d3-4a44-bf9d-eceb34f30081');\n",
              "          const dataTable =\n",
              "            await google.colab.kernel.invokeFunction('convertToInteractive',\n",
              "                                                     [key], {});\n",
              "          if (!dataTable) return;\n",
              "\n",
              "          const docLinkHtml = 'Like what you see? Visit the ' +\n",
              "            '<a target=\"_blank\" href=https://colab.research.google.com/notebooks/data_table.ipynb>data table notebook</a>'\n",
              "            + ' to learn more about interactive tables.';\n",
              "          element.innerHTML = '';\n",
              "          dataTable['output_type'] = 'display_data';\n",
              "          await google.colab.output.renderOutput(dataTable, element);\n",
              "          const docLink = document.createElement('div');\n",
              "          docLink.innerHTML = docLinkHtml;\n",
              "          element.appendChild(docLink);\n",
              "        }\n",
              "      </script>\n",
              "    </div>\n",
              "  </div>\n",
              "  "
            ]
          },
          "metadata": {},
          "execution_count": 51
        }
      ],
      "source": [
        "df = pd.read_excel(file_path + \"elections_with_tweets.xlsx\")\n",
        "df = df[[\"Case Number\", \"Votes for Labor Union1\", \"Votes Against\", \n",
        "         \"Tweets - Union\", \"Tweets - Labor Org\", \"Tweets - Case Name\"]]\n",
        "df.fillna(0, inplace = True)\n",
        "\n",
        "for col in [\"Score_Union\", \"Score_LabOrg\", \"Score_Name\"]:\n",
        "    df[col] = np.nan\n",
        "\n",
        "df.head()"
      ]
    },
    {
      "cell_type": "markdown",
      "metadata": {
        "id": "dh_WmNDFZqvG"
      },
      "source": [
        "## Calculate scores\n",
        "\n",
        "\\begin{equation}\n",
        "    Score = \\begin{cases}\\frac{\\#\\text{ positive tweets}}{\\#\\text{ total tweets}}, &\\text{if # total tweets} > 0 \\\\\n",
        "    NaN, &\\text{otherwise}\\end{cases}\n",
        "\\end{equation}"
      ]
    },
    {
      "cell_type": "code",
      "execution_count": 52,
      "metadata": {
        "colab": {
          "base_uri": "https://localhost:8080/"
        },
        "id": "rU7F72LvatoL",
        "outputId": "4a6dfb72-9c6e-4823-8d02-bd4f7731ad25"
      },
      "outputs": [
        {
          "output_type": "execute_result",
          "data": {
            "text/plain": [
              "0.4"
            ]
          },
          "metadata": {},
          "execution_count": 52
        }
      ],
      "source": [
        "def parseString(tweets):\n",
        "    tweets = tweets.replace(\"\\\",\", \"\\',\")\n",
        "    tweets_split = tweets.split(\"\\',\")\n",
        "    tweets_parsed = [tweet[2:] for tweet in tweets_split]\n",
        "    tweets_parsed[-1] = tweets_parsed[-1][:-2]\n",
        "    return tweets_parsed\n",
        "\n",
        "def calcScore(data, model):\n",
        "    '''\n",
        "    data: NaN or list of str\n",
        "    '''\n",
        "    if data == 0:\n",
        "        return np.nan\n",
        "    \n",
        "    data = parseString(data)\n",
        "\n",
        "    data = [whiteSpaceFix(dat) for dat in data]\n",
        "\n",
        "    data_tk = tokenizer_function(data)\n",
        "\n",
        "    data_loader = DataLoader(torch.tensor(data_tk), batch_size = 16, shuffle = False)\n",
        "\n",
        "    model.eval()\n",
        "\n",
        "    total_pred = []\n",
        "\n",
        "    for i, sent in enumerate(data_loader):\n",
        "        sent = sent.to(device)\n",
        "        with torch.no_grad():\n",
        "            pred = model(sent)\n",
        "        \n",
        "        logits = pred.logits\n",
        "        total_pred.extend(logits.detach().cpu().numpy())\n",
        "    \n",
        "    total_pred = [np.argmax(i) for i in total_pred]\n",
        "    \n",
        "    return sum(total_pred) / len(total_pred)\n",
        "\n",
        "calcScore(df.iloc[0, 3], model)"
      ]
    },
    {
      "cell_type": "code",
      "execution_count": 53,
      "metadata": {
        "colab": {
          "base_uri": "https://localhost:8080/"
        },
        "id": "AR7gTuBkXd3u",
        "outputId": "bddf36c4-43d6-41f0-be83-3c86e54aef0f"
      },
      "outputs": [
        {
          "output_type": "stream",
          "name": "stdout",
          "text": [
            ".................."
          ]
        }
      ],
      "source": [
        "for i in range(len(df)):\n",
        "    if (i % 100 == 0):\n",
        "        print(\".\", end = \"\")\n",
        "    tweets_union, tweets_laborg, tweets_name = df.iloc[i, 3], df.iloc[i, 4], df.iloc[i, 5]\n",
        "    df.iloc[i, 6] = calcScore(tweets_union, model)\n",
        "    df.iloc[i, 7] = calcScore(tweets_laborg, model)\n",
        "    df.iloc[i, 8] = calcScore(tweets_name, model)"
      ]
    },
    {
      "cell_type": "code",
      "source": [
        "vote_for = df[\"Votes for Labor Union1\"] > df[\"Votes Against\"]\n",
        "score_for = df[[\"Score_Union\", \"Score_LabOrg\", \"Score_Name\"]].mean(axis = 1)\n",
        "# score_for = df[\"Score_Name\"]\n",
        "compare = {\"vote_for\": list(vote_for), \"score_for\": score_for}\n",
        "compare = pd.DataFrame(compare)\n",
        "compare.dropna(inplace = True)\n",
        "\n",
        "compare[\"pred\"] = compare[\"score_for\"] > 0.5\n",
        "sum(compare.pred == compare.vote_for) / len(compare)"
      ],
      "metadata": {
        "colab": {
          "base_uri": "https://localhost:8080/"
        },
        "id": "wo6TjlnCy6zC",
        "outputId": "bede5a5f-f651-4dae-a6d0-37d7b1ed5d72"
      },
      "execution_count": 120,
      "outputs": [
        {
          "output_type": "execute_result",
          "data": {
            "text/plain": [
              "0.5596491228070175"
            ]
          },
          "metadata": {},
          "execution_count": 120
        }
      ]
    },
    {
      "cell_type": "code",
      "source": [],
      "metadata": {
        "id": "U5vjhq8SFcQe"
      },
      "execution_count": null,
      "outputs": []
    }
  ],
  "metadata": {
    "accelerator": "GPU",
    "colab": {
      "toc_visible": true,
      "provenance": []
    },
    "gpuClass": "standard",
    "kernelspec": {
      "display_name": "Python 3",
      "name": "python3"
    },
    "language_info": {
      "name": "python"
    },
    "widgets": {
      "application/vnd.jupyter.widget-state+json": {
        "94da220a42ee4989a2229ef367e2702f": {
          "model_module": "@jupyter-widgets/controls",
          "model_name": "HBoxModel",
          "model_module_version": "1.5.0",
          "state": {
            "_dom_classes": [],
            "_model_module": "@jupyter-widgets/controls",
            "_model_module_version": "1.5.0",
            "_model_name": "HBoxModel",
            "_view_count": null,
            "_view_module": "@jupyter-widgets/controls",
            "_view_module_version": "1.5.0",
            "_view_name": "HBoxView",
            "box_style": "",
            "children": [
              "IPY_MODEL_716bebaf1d0c425b99ab8de03b6855ca",
              "IPY_MODEL_2dc92bb62869448881f9611c495dc993",
              "IPY_MODEL_17efc9187ba94106ab3832bbc813bcee"
            ],
            "layout": "IPY_MODEL_af545ab8923a465b8178d9aa2a8d14df"
          }
        },
        "716bebaf1d0c425b99ab8de03b6855ca": {
          "model_module": "@jupyter-widgets/controls",
          "model_name": "HTMLModel",
          "model_module_version": "1.5.0",
          "state": {
            "_dom_classes": [],
            "_model_module": "@jupyter-widgets/controls",
            "_model_module_version": "1.5.0",
            "_model_name": "HTMLModel",
            "_view_count": null,
            "_view_module": "@jupyter-widgets/controls",
            "_view_module_version": "1.5.0",
            "_view_name": "HTMLView",
            "description": "",
            "description_tooltip": null,
            "layout": "IPY_MODEL_e024b0a8471842ae86defa7a09c94ee2",
            "placeholder": "​",
            "style": "IPY_MODEL_be4c8345008c43e786634b0ed0f298eb",
            "value": "Downloading: 100%"
          }
        },
        "2dc92bb62869448881f9611c495dc993": {
          "model_module": "@jupyter-widgets/controls",
          "model_name": "FloatProgressModel",
          "model_module_version": "1.5.0",
          "state": {
            "_dom_classes": [],
            "_model_module": "@jupyter-widgets/controls",
            "_model_module_version": "1.5.0",
            "_model_name": "FloatProgressModel",
            "_view_count": null,
            "_view_module": "@jupyter-widgets/controls",
            "_view_module_version": "1.5.0",
            "_view_name": "ProgressView",
            "bar_style": "success",
            "description": "",
            "description_tooltip": null,
            "layout": "IPY_MODEL_8385cd6ff6104ffcbc42ea35ccb8eac3",
            "max": 213450,
            "min": 0,
            "orientation": "horizontal",
            "style": "IPY_MODEL_aa6f55dedc1b4b669728de977c5697dd",
            "value": 213450
          }
        },
        "17efc9187ba94106ab3832bbc813bcee": {
          "model_module": "@jupyter-widgets/controls",
          "model_name": "HTMLModel",
          "model_module_version": "1.5.0",
          "state": {
            "_dom_classes": [],
            "_model_module": "@jupyter-widgets/controls",
            "_model_module_version": "1.5.0",
            "_model_name": "HTMLModel",
            "_view_count": null,
            "_view_module": "@jupyter-widgets/controls",
            "_view_module_version": "1.5.0",
            "_view_name": "HTMLView",
            "description": "",
            "description_tooltip": null,
            "layout": "IPY_MODEL_ea9b4d52c4f64191b4ab461e96192b4d",
            "placeholder": "​",
            "style": "IPY_MODEL_6187c9bab6054a859a4d6e1778b9313d",
            "value": " 213k/213k [00:00&lt;00:00, 872kB/s]"
          }
        },
        "af545ab8923a465b8178d9aa2a8d14df": {
          "model_module": "@jupyter-widgets/base",
          "model_name": "LayoutModel",
          "model_module_version": "1.2.0",
          "state": {
            "_model_module": "@jupyter-widgets/base",
            "_model_module_version": "1.2.0",
            "_model_name": "LayoutModel",
            "_view_count": null,
            "_view_module": "@jupyter-widgets/base",
            "_view_module_version": "1.2.0",
            "_view_name": "LayoutView",
            "align_content": null,
            "align_items": null,
            "align_self": null,
            "border": null,
            "bottom": null,
            "display": null,
            "flex": null,
            "flex_flow": null,
            "grid_area": null,
            "grid_auto_columns": null,
            "grid_auto_flow": null,
            "grid_auto_rows": null,
            "grid_column": null,
            "grid_gap": null,
            "grid_row": null,
            "grid_template_areas": null,
            "grid_template_columns": null,
            "grid_template_rows": null,
            "height": null,
            "justify_content": null,
            "justify_items": null,
            "left": null,
            "margin": null,
            "max_height": null,
            "max_width": null,
            "min_height": null,
            "min_width": null,
            "object_fit": null,
            "object_position": null,
            "order": null,
            "overflow": null,
            "overflow_x": null,
            "overflow_y": null,
            "padding": null,
            "right": null,
            "top": null,
            "visibility": null,
            "width": null
          }
        },
        "e024b0a8471842ae86defa7a09c94ee2": {
          "model_module": "@jupyter-widgets/base",
          "model_name": "LayoutModel",
          "model_module_version": "1.2.0",
          "state": {
            "_model_module": "@jupyter-widgets/base",
            "_model_module_version": "1.2.0",
            "_model_name": "LayoutModel",
            "_view_count": null,
            "_view_module": "@jupyter-widgets/base",
            "_view_module_version": "1.2.0",
            "_view_name": "LayoutView",
            "align_content": null,
            "align_items": null,
            "align_self": null,
            "border": null,
            "bottom": null,
            "display": null,
            "flex": null,
            "flex_flow": null,
            "grid_area": null,
            "grid_auto_columns": null,
            "grid_auto_flow": null,
            "grid_auto_rows": null,
            "grid_column": null,
            "grid_gap": null,
            "grid_row": null,
            "grid_template_areas": null,
            "grid_template_columns": null,
            "grid_template_rows": null,
            "height": null,
            "justify_content": null,
            "justify_items": null,
            "left": null,
            "margin": null,
            "max_height": null,
            "max_width": null,
            "min_height": null,
            "min_width": null,
            "object_fit": null,
            "object_position": null,
            "order": null,
            "overflow": null,
            "overflow_x": null,
            "overflow_y": null,
            "padding": null,
            "right": null,
            "top": null,
            "visibility": null,
            "width": null
          }
        },
        "be4c8345008c43e786634b0ed0f298eb": {
          "model_module": "@jupyter-widgets/controls",
          "model_name": "DescriptionStyleModel",
          "model_module_version": "1.5.0",
          "state": {
            "_model_module": "@jupyter-widgets/controls",
            "_model_module_version": "1.5.0",
            "_model_name": "DescriptionStyleModel",
            "_view_count": null,
            "_view_module": "@jupyter-widgets/base",
            "_view_module_version": "1.2.0",
            "_view_name": "StyleView",
            "description_width": ""
          }
        },
        "8385cd6ff6104ffcbc42ea35ccb8eac3": {
          "model_module": "@jupyter-widgets/base",
          "model_name": "LayoutModel",
          "model_module_version": "1.2.0",
          "state": {
            "_model_module": "@jupyter-widgets/base",
            "_model_module_version": "1.2.0",
            "_model_name": "LayoutModel",
            "_view_count": null,
            "_view_module": "@jupyter-widgets/base",
            "_view_module_version": "1.2.0",
            "_view_name": "LayoutView",
            "align_content": null,
            "align_items": null,
            "align_self": null,
            "border": null,
            "bottom": null,
            "display": null,
            "flex": null,
            "flex_flow": null,
            "grid_area": null,
            "grid_auto_columns": null,
            "grid_auto_flow": null,
            "grid_auto_rows": null,
            "grid_column": null,
            "grid_gap": null,
            "grid_row": null,
            "grid_template_areas": null,
            "grid_template_columns": null,
            "grid_template_rows": null,
            "height": null,
            "justify_content": null,
            "justify_items": null,
            "left": null,
            "margin": null,
            "max_height": null,
            "max_width": null,
            "min_height": null,
            "min_width": null,
            "object_fit": null,
            "object_position": null,
            "order": null,
            "overflow": null,
            "overflow_x": null,
            "overflow_y": null,
            "padding": null,
            "right": null,
            "top": null,
            "visibility": null,
            "width": null
          }
        },
        "aa6f55dedc1b4b669728de977c5697dd": {
          "model_module": "@jupyter-widgets/controls",
          "model_name": "ProgressStyleModel",
          "model_module_version": "1.5.0",
          "state": {
            "_model_module": "@jupyter-widgets/controls",
            "_model_module_version": "1.5.0",
            "_model_name": "ProgressStyleModel",
            "_view_count": null,
            "_view_module": "@jupyter-widgets/base",
            "_view_module_version": "1.2.0",
            "_view_name": "StyleView",
            "bar_color": null,
            "description_width": ""
          }
        },
        "ea9b4d52c4f64191b4ab461e96192b4d": {
          "model_module": "@jupyter-widgets/base",
          "model_name": "LayoutModel",
          "model_module_version": "1.2.0",
          "state": {
            "_model_module": "@jupyter-widgets/base",
            "_model_module_version": "1.2.0",
            "_model_name": "LayoutModel",
            "_view_count": null,
            "_view_module": "@jupyter-widgets/base",
            "_view_module_version": "1.2.0",
            "_view_name": "LayoutView",
            "align_content": null,
            "align_items": null,
            "align_self": null,
            "border": null,
            "bottom": null,
            "display": null,
            "flex": null,
            "flex_flow": null,
            "grid_area": null,
            "grid_auto_columns": null,
            "grid_auto_flow": null,
            "grid_auto_rows": null,
            "grid_column": null,
            "grid_gap": null,
            "grid_row": null,
            "grid_template_areas": null,
            "grid_template_columns": null,
            "grid_template_rows": null,
            "height": null,
            "justify_content": null,
            "justify_items": null,
            "left": null,
            "margin": null,
            "max_height": null,
            "max_width": null,
            "min_height": null,
            "min_width": null,
            "object_fit": null,
            "object_position": null,
            "order": null,
            "overflow": null,
            "overflow_x": null,
            "overflow_y": null,
            "padding": null,
            "right": null,
            "top": null,
            "visibility": null,
            "width": null
          }
        },
        "6187c9bab6054a859a4d6e1778b9313d": {
          "model_module": "@jupyter-widgets/controls",
          "model_name": "DescriptionStyleModel",
          "model_module_version": "1.5.0",
          "state": {
            "_model_module": "@jupyter-widgets/controls",
            "_model_module_version": "1.5.0",
            "_model_name": "DescriptionStyleModel",
            "_view_count": null,
            "_view_module": "@jupyter-widgets/base",
            "_view_module_version": "1.2.0",
            "_view_name": "StyleView",
            "description_width": ""
          }
        },
        "955bc6e049194e6e9d4698bb53152d79": {
          "model_module": "@jupyter-widgets/controls",
          "model_name": "HBoxModel",
          "model_module_version": "1.5.0",
          "state": {
            "_dom_classes": [],
            "_model_module": "@jupyter-widgets/controls",
            "_model_module_version": "1.5.0",
            "_model_name": "HBoxModel",
            "_view_count": null,
            "_view_module": "@jupyter-widgets/controls",
            "_view_module_version": "1.5.0",
            "_view_name": "HBoxView",
            "box_style": "",
            "children": [
              "IPY_MODEL_254bb1ff57734f598bf7d713d683a696",
              "IPY_MODEL_66326b08a7a94f369288b49df86c6017",
              "IPY_MODEL_9eb488cb291142b68df75bd9f499521c"
            ],
            "layout": "IPY_MODEL_11e2d3504a65421485a65276d4abd248"
          }
        },
        "254bb1ff57734f598bf7d713d683a696": {
          "model_module": "@jupyter-widgets/controls",
          "model_name": "HTMLModel",
          "model_module_version": "1.5.0",
          "state": {
            "_dom_classes": [],
            "_model_module": "@jupyter-widgets/controls",
            "_model_module_version": "1.5.0",
            "_model_name": "HTMLModel",
            "_view_count": null,
            "_view_module": "@jupyter-widgets/controls",
            "_view_module_version": "1.5.0",
            "_view_name": "HTMLView",
            "description": "",
            "description_tooltip": null,
            "layout": "IPY_MODEL_76fbfbe15b4241ec9338632b064ffb5c",
            "placeholder": "​",
            "style": "IPY_MODEL_e6bf6a9cf42f4d178c01c9c0ad4a3b2d",
            "value": "Downloading: 100%"
          }
        },
        "66326b08a7a94f369288b49df86c6017": {
          "model_module": "@jupyter-widgets/controls",
          "model_name": "FloatProgressModel",
          "model_module_version": "1.5.0",
          "state": {
            "_dom_classes": [],
            "_model_module": "@jupyter-widgets/controls",
            "_model_module_version": "1.5.0",
            "_model_name": "FloatProgressModel",
            "_view_count": null,
            "_view_module": "@jupyter-widgets/controls",
            "_view_module_version": "1.5.0",
            "_view_name": "ProgressView",
            "bar_style": "success",
            "description": "",
            "description_tooltip": null,
            "layout": "IPY_MODEL_ae91a3a1a0944aba89600a24bbead1bd",
            "max": 29,
            "min": 0,
            "orientation": "horizontal",
            "style": "IPY_MODEL_45cdf6aa84ea491791f88cc1f06371a5",
            "value": 29
          }
        },
        "9eb488cb291142b68df75bd9f499521c": {
          "model_module": "@jupyter-widgets/controls",
          "model_name": "HTMLModel",
          "model_module_version": "1.5.0",
          "state": {
            "_dom_classes": [],
            "_model_module": "@jupyter-widgets/controls",
            "_model_module_version": "1.5.0",
            "_model_name": "HTMLModel",
            "_view_count": null,
            "_view_module": "@jupyter-widgets/controls",
            "_view_module_version": "1.5.0",
            "_view_name": "HTMLView",
            "description": "",
            "description_tooltip": null,
            "layout": "IPY_MODEL_fcfe5db88bfb40fdad0b4263587b2e25",
            "placeholder": "​",
            "style": "IPY_MODEL_e41c6d69c80f49f0876c529f62029e9a",
            "value": " 29.0/29.0 [00:00&lt;00:00, 372B/s]"
          }
        },
        "11e2d3504a65421485a65276d4abd248": {
          "model_module": "@jupyter-widgets/base",
          "model_name": "LayoutModel",
          "model_module_version": "1.2.0",
          "state": {
            "_model_module": "@jupyter-widgets/base",
            "_model_module_version": "1.2.0",
            "_model_name": "LayoutModel",
            "_view_count": null,
            "_view_module": "@jupyter-widgets/base",
            "_view_module_version": "1.2.0",
            "_view_name": "LayoutView",
            "align_content": null,
            "align_items": null,
            "align_self": null,
            "border": null,
            "bottom": null,
            "display": null,
            "flex": null,
            "flex_flow": null,
            "grid_area": null,
            "grid_auto_columns": null,
            "grid_auto_flow": null,
            "grid_auto_rows": null,
            "grid_column": null,
            "grid_gap": null,
            "grid_row": null,
            "grid_template_areas": null,
            "grid_template_columns": null,
            "grid_template_rows": null,
            "height": null,
            "justify_content": null,
            "justify_items": null,
            "left": null,
            "margin": null,
            "max_height": null,
            "max_width": null,
            "min_height": null,
            "min_width": null,
            "object_fit": null,
            "object_position": null,
            "order": null,
            "overflow": null,
            "overflow_x": null,
            "overflow_y": null,
            "padding": null,
            "right": null,
            "top": null,
            "visibility": null,
            "width": null
          }
        },
        "76fbfbe15b4241ec9338632b064ffb5c": {
          "model_module": "@jupyter-widgets/base",
          "model_name": "LayoutModel",
          "model_module_version": "1.2.0",
          "state": {
            "_model_module": "@jupyter-widgets/base",
            "_model_module_version": "1.2.0",
            "_model_name": "LayoutModel",
            "_view_count": null,
            "_view_module": "@jupyter-widgets/base",
            "_view_module_version": "1.2.0",
            "_view_name": "LayoutView",
            "align_content": null,
            "align_items": null,
            "align_self": null,
            "border": null,
            "bottom": null,
            "display": null,
            "flex": null,
            "flex_flow": null,
            "grid_area": null,
            "grid_auto_columns": null,
            "grid_auto_flow": null,
            "grid_auto_rows": null,
            "grid_column": null,
            "grid_gap": null,
            "grid_row": null,
            "grid_template_areas": null,
            "grid_template_columns": null,
            "grid_template_rows": null,
            "height": null,
            "justify_content": null,
            "justify_items": null,
            "left": null,
            "margin": null,
            "max_height": null,
            "max_width": null,
            "min_height": null,
            "min_width": null,
            "object_fit": null,
            "object_position": null,
            "order": null,
            "overflow": null,
            "overflow_x": null,
            "overflow_y": null,
            "padding": null,
            "right": null,
            "top": null,
            "visibility": null,
            "width": null
          }
        },
        "e6bf6a9cf42f4d178c01c9c0ad4a3b2d": {
          "model_module": "@jupyter-widgets/controls",
          "model_name": "DescriptionStyleModel",
          "model_module_version": "1.5.0",
          "state": {
            "_model_module": "@jupyter-widgets/controls",
            "_model_module_version": "1.5.0",
            "_model_name": "DescriptionStyleModel",
            "_view_count": null,
            "_view_module": "@jupyter-widgets/base",
            "_view_module_version": "1.2.0",
            "_view_name": "StyleView",
            "description_width": ""
          }
        },
        "ae91a3a1a0944aba89600a24bbead1bd": {
          "model_module": "@jupyter-widgets/base",
          "model_name": "LayoutModel",
          "model_module_version": "1.2.0",
          "state": {
            "_model_module": "@jupyter-widgets/base",
            "_model_module_version": "1.2.0",
            "_model_name": "LayoutModel",
            "_view_count": null,
            "_view_module": "@jupyter-widgets/base",
            "_view_module_version": "1.2.0",
            "_view_name": "LayoutView",
            "align_content": null,
            "align_items": null,
            "align_self": null,
            "border": null,
            "bottom": null,
            "display": null,
            "flex": null,
            "flex_flow": null,
            "grid_area": null,
            "grid_auto_columns": null,
            "grid_auto_flow": null,
            "grid_auto_rows": null,
            "grid_column": null,
            "grid_gap": null,
            "grid_row": null,
            "grid_template_areas": null,
            "grid_template_columns": null,
            "grid_template_rows": null,
            "height": null,
            "justify_content": null,
            "justify_items": null,
            "left": null,
            "margin": null,
            "max_height": null,
            "max_width": null,
            "min_height": null,
            "min_width": null,
            "object_fit": null,
            "object_position": null,
            "order": null,
            "overflow": null,
            "overflow_x": null,
            "overflow_y": null,
            "padding": null,
            "right": null,
            "top": null,
            "visibility": null,
            "width": null
          }
        },
        "45cdf6aa84ea491791f88cc1f06371a5": {
          "model_module": "@jupyter-widgets/controls",
          "model_name": "ProgressStyleModel",
          "model_module_version": "1.5.0",
          "state": {
            "_model_module": "@jupyter-widgets/controls",
            "_model_module_version": "1.5.0",
            "_model_name": "ProgressStyleModel",
            "_view_count": null,
            "_view_module": "@jupyter-widgets/base",
            "_view_module_version": "1.2.0",
            "_view_name": "StyleView",
            "bar_color": null,
            "description_width": ""
          }
        },
        "fcfe5db88bfb40fdad0b4263587b2e25": {
          "model_module": "@jupyter-widgets/base",
          "model_name": "LayoutModel",
          "model_module_version": "1.2.0",
          "state": {
            "_model_module": "@jupyter-widgets/base",
            "_model_module_version": "1.2.0",
            "_model_name": "LayoutModel",
            "_view_count": null,
            "_view_module": "@jupyter-widgets/base",
            "_view_module_version": "1.2.0",
            "_view_name": "LayoutView",
            "align_content": null,
            "align_items": null,
            "align_self": null,
            "border": null,
            "bottom": null,
            "display": null,
            "flex": null,
            "flex_flow": null,
            "grid_area": null,
            "grid_auto_columns": null,
            "grid_auto_flow": null,
            "grid_auto_rows": null,
            "grid_column": null,
            "grid_gap": null,
            "grid_row": null,
            "grid_template_areas": null,
            "grid_template_columns": null,
            "grid_template_rows": null,
            "height": null,
            "justify_content": null,
            "justify_items": null,
            "left": null,
            "margin": null,
            "max_height": null,
            "max_width": null,
            "min_height": null,
            "min_width": null,
            "object_fit": null,
            "object_position": null,
            "order": null,
            "overflow": null,
            "overflow_x": null,
            "overflow_y": null,
            "padding": null,
            "right": null,
            "top": null,
            "visibility": null,
            "width": null
          }
        },
        "e41c6d69c80f49f0876c529f62029e9a": {
          "model_module": "@jupyter-widgets/controls",
          "model_name": "DescriptionStyleModel",
          "model_module_version": "1.5.0",
          "state": {
            "_model_module": "@jupyter-widgets/controls",
            "_model_module_version": "1.5.0",
            "_model_name": "DescriptionStyleModel",
            "_view_count": null,
            "_view_module": "@jupyter-widgets/base",
            "_view_module_version": "1.2.0",
            "_view_name": "StyleView",
            "description_width": ""
          }
        },
        "fd07e463be4e436a9a7fbfdf794d7ea1": {
          "model_module": "@jupyter-widgets/controls",
          "model_name": "HBoxModel",
          "model_module_version": "1.5.0",
          "state": {
            "_dom_classes": [],
            "_model_module": "@jupyter-widgets/controls",
            "_model_module_version": "1.5.0",
            "_model_name": "HBoxModel",
            "_view_count": null,
            "_view_module": "@jupyter-widgets/controls",
            "_view_module_version": "1.5.0",
            "_view_name": "HBoxView",
            "box_style": "",
            "children": [
              "IPY_MODEL_b98ae2c6797f4783a21b85e2adba1821",
              "IPY_MODEL_f9a9ea7145f844aab5829eaffefbe5b1",
              "IPY_MODEL_d5bbd458aa16407fb0da2fa34dc6f4d0"
            ],
            "layout": "IPY_MODEL_94e69cc385b04c448a36e0ca8fa9e9c2"
          }
        },
        "b98ae2c6797f4783a21b85e2adba1821": {
          "model_module": "@jupyter-widgets/controls",
          "model_name": "HTMLModel",
          "model_module_version": "1.5.0",
          "state": {
            "_dom_classes": [],
            "_model_module": "@jupyter-widgets/controls",
            "_model_module_version": "1.5.0",
            "_model_name": "HTMLModel",
            "_view_count": null,
            "_view_module": "@jupyter-widgets/controls",
            "_view_module_version": "1.5.0",
            "_view_name": "HTMLView",
            "description": "",
            "description_tooltip": null,
            "layout": "IPY_MODEL_df1dfd7956704e9fb8bf308fd3237220",
            "placeholder": "​",
            "style": "IPY_MODEL_e03b316ee7ec4578870938344f65a2bd",
            "value": "Downloading: 100%"
          }
        },
        "f9a9ea7145f844aab5829eaffefbe5b1": {
          "model_module": "@jupyter-widgets/controls",
          "model_name": "FloatProgressModel",
          "model_module_version": "1.5.0",
          "state": {
            "_dom_classes": [],
            "_model_module": "@jupyter-widgets/controls",
            "_model_module_version": "1.5.0",
            "_model_name": "FloatProgressModel",
            "_view_count": null,
            "_view_module": "@jupyter-widgets/controls",
            "_view_module_version": "1.5.0",
            "_view_name": "ProgressView",
            "bar_style": "success",
            "description": "",
            "description_tooltip": null,
            "layout": "IPY_MODEL_77e8a722053741d696697d636f271cf1",
            "max": 411,
            "min": 0,
            "orientation": "horizontal",
            "style": "IPY_MODEL_81c841f99aa44f7aadcc0234cbe9096a",
            "value": 411
          }
        },
        "d5bbd458aa16407fb0da2fa34dc6f4d0": {
          "model_module": "@jupyter-widgets/controls",
          "model_name": "HTMLModel",
          "model_module_version": "1.5.0",
          "state": {
            "_dom_classes": [],
            "_model_module": "@jupyter-widgets/controls",
            "_model_module_version": "1.5.0",
            "_model_name": "HTMLModel",
            "_view_count": null,
            "_view_module": "@jupyter-widgets/controls",
            "_view_module_version": "1.5.0",
            "_view_name": "HTMLView",
            "description": "",
            "description_tooltip": null,
            "layout": "IPY_MODEL_20097b2681634e92a2ed02eec8976be9",
            "placeholder": "​",
            "style": "IPY_MODEL_3e9544cd07614ccba123fd45d215e35d",
            "value": " 411/411 [00:00&lt;00:00, 6.09kB/s]"
          }
        },
        "94e69cc385b04c448a36e0ca8fa9e9c2": {
          "model_module": "@jupyter-widgets/base",
          "model_name": "LayoutModel",
          "model_module_version": "1.2.0",
          "state": {
            "_model_module": "@jupyter-widgets/base",
            "_model_module_version": "1.2.0",
            "_model_name": "LayoutModel",
            "_view_count": null,
            "_view_module": "@jupyter-widgets/base",
            "_view_module_version": "1.2.0",
            "_view_name": "LayoutView",
            "align_content": null,
            "align_items": null,
            "align_self": null,
            "border": null,
            "bottom": null,
            "display": null,
            "flex": null,
            "flex_flow": null,
            "grid_area": null,
            "grid_auto_columns": null,
            "grid_auto_flow": null,
            "grid_auto_rows": null,
            "grid_column": null,
            "grid_gap": null,
            "grid_row": null,
            "grid_template_areas": null,
            "grid_template_columns": null,
            "grid_template_rows": null,
            "height": null,
            "justify_content": null,
            "justify_items": null,
            "left": null,
            "margin": null,
            "max_height": null,
            "max_width": null,
            "min_height": null,
            "min_width": null,
            "object_fit": null,
            "object_position": null,
            "order": null,
            "overflow": null,
            "overflow_x": null,
            "overflow_y": null,
            "padding": null,
            "right": null,
            "top": null,
            "visibility": null,
            "width": null
          }
        },
        "df1dfd7956704e9fb8bf308fd3237220": {
          "model_module": "@jupyter-widgets/base",
          "model_name": "LayoutModel",
          "model_module_version": "1.2.0",
          "state": {
            "_model_module": "@jupyter-widgets/base",
            "_model_module_version": "1.2.0",
            "_model_name": "LayoutModel",
            "_view_count": null,
            "_view_module": "@jupyter-widgets/base",
            "_view_module_version": "1.2.0",
            "_view_name": "LayoutView",
            "align_content": null,
            "align_items": null,
            "align_self": null,
            "border": null,
            "bottom": null,
            "display": null,
            "flex": null,
            "flex_flow": null,
            "grid_area": null,
            "grid_auto_columns": null,
            "grid_auto_flow": null,
            "grid_auto_rows": null,
            "grid_column": null,
            "grid_gap": null,
            "grid_row": null,
            "grid_template_areas": null,
            "grid_template_columns": null,
            "grid_template_rows": null,
            "height": null,
            "justify_content": null,
            "justify_items": null,
            "left": null,
            "margin": null,
            "max_height": null,
            "max_width": null,
            "min_height": null,
            "min_width": null,
            "object_fit": null,
            "object_position": null,
            "order": null,
            "overflow": null,
            "overflow_x": null,
            "overflow_y": null,
            "padding": null,
            "right": null,
            "top": null,
            "visibility": null,
            "width": null
          }
        },
        "e03b316ee7ec4578870938344f65a2bd": {
          "model_module": "@jupyter-widgets/controls",
          "model_name": "DescriptionStyleModel",
          "model_module_version": "1.5.0",
          "state": {
            "_model_module": "@jupyter-widgets/controls",
            "_model_module_version": "1.5.0",
            "_model_name": "DescriptionStyleModel",
            "_view_count": null,
            "_view_module": "@jupyter-widgets/base",
            "_view_module_version": "1.2.0",
            "_view_name": "StyleView",
            "description_width": ""
          }
        },
        "77e8a722053741d696697d636f271cf1": {
          "model_module": "@jupyter-widgets/base",
          "model_name": "LayoutModel",
          "model_module_version": "1.2.0",
          "state": {
            "_model_module": "@jupyter-widgets/base",
            "_model_module_version": "1.2.0",
            "_model_name": "LayoutModel",
            "_view_count": null,
            "_view_module": "@jupyter-widgets/base",
            "_view_module_version": "1.2.0",
            "_view_name": "LayoutView",
            "align_content": null,
            "align_items": null,
            "align_self": null,
            "border": null,
            "bottom": null,
            "display": null,
            "flex": null,
            "flex_flow": null,
            "grid_area": null,
            "grid_auto_columns": null,
            "grid_auto_flow": null,
            "grid_auto_rows": null,
            "grid_column": null,
            "grid_gap": null,
            "grid_row": null,
            "grid_template_areas": null,
            "grid_template_columns": null,
            "grid_template_rows": null,
            "height": null,
            "justify_content": null,
            "justify_items": null,
            "left": null,
            "margin": null,
            "max_height": null,
            "max_width": null,
            "min_height": null,
            "min_width": null,
            "object_fit": null,
            "object_position": null,
            "order": null,
            "overflow": null,
            "overflow_x": null,
            "overflow_y": null,
            "padding": null,
            "right": null,
            "top": null,
            "visibility": null,
            "width": null
          }
        },
        "81c841f99aa44f7aadcc0234cbe9096a": {
          "model_module": "@jupyter-widgets/controls",
          "model_name": "ProgressStyleModel",
          "model_module_version": "1.5.0",
          "state": {
            "_model_module": "@jupyter-widgets/controls",
            "_model_module_version": "1.5.0",
            "_model_name": "ProgressStyleModel",
            "_view_count": null,
            "_view_module": "@jupyter-widgets/base",
            "_view_module_version": "1.2.0",
            "_view_name": "StyleView",
            "bar_color": null,
            "description_width": ""
          }
        },
        "20097b2681634e92a2ed02eec8976be9": {
          "model_module": "@jupyter-widgets/base",
          "model_name": "LayoutModel",
          "model_module_version": "1.2.0",
          "state": {
            "_model_module": "@jupyter-widgets/base",
            "_model_module_version": "1.2.0",
            "_model_name": "LayoutModel",
            "_view_count": null,
            "_view_module": "@jupyter-widgets/base",
            "_view_module_version": "1.2.0",
            "_view_name": "LayoutView",
            "align_content": null,
            "align_items": null,
            "align_self": null,
            "border": null,
            "bottom": null,
            "display": null,
            "flex": null,
            "flex_flow": null,
            "grid_area": null,
            "grid_auto_columns": null,
            "grid_auto_flow": null,
            "grid_auto_rows": null,
            "grid_column": null,
            "grid_gap": null,
            "grid_row": null,
            "grid_template_areas": null,
            "grid_template_columns": null,
            "grid_template_rows": null,
            "height": null,
            "justify_content": null,
            "justify_items": null,
            "left": null,
            "margin": null,
            "max_height": null,
            "max_width": null,
            "min_height": null,
            "min_width": null,
            "object_fit": null,
            "object_position": null,
            "order": null,
            "overflow": null,
            "overflow_x": null,
            "overflow_y": null,
            "padding": null,
            "right": null,
            "top": null,
            "visibility": null,
            "width": null
          }
        },
        "3e9544cd07614ccba123fd45d215e35d": {
          "model_module": "@jupyter-widgets/controls",
          "model_name": "DescriptionStyleModel",
          "model_module_version": "1.5.0",
          "state": {
            "_model_module": "@jupyter-widgets/controls",
            "_model_module_version": "1.5.0",
            "_model_name": "DescriptionStyleModel",
            "_view_count": null,
            "_view_module": "@jupyter-widgets/base",
            "_view_module_version": "1.2.0",
            "_view_name": "StyleView",
            "description_width": ""
          }
        }
      }
    }
  },
  "nbformat": 4,
  "nbformat_minor": 0
}